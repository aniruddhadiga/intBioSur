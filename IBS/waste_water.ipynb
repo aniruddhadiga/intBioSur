{
 "cells": [
  {
   "cell_type": "code",
   "execution_count": 1,
   "metadata": {},
   "outputs": [],
   "source": [
    "import pandas as pd\n",
    "from matplotlib import pyplot as plt\n",
    "import seaborn as sns\n",
    "import numpy as np\n",
    "import matplotlib.colors as cm\n",
    "import datetime\n",
    "from datetime import timedelta\n",
    "from epiweeks import Week, Year\n",
    "import seaborn as sns\n",
    "%matplotlib inline\n",
    "%config Completer.use_jedi = False"
   ]
  },
  {
   "cell_type": "code",
   "execution_count": 2,
   "metadata": {},
   "outputs": [],
   "source": [
    "data_file = \"/project/biocomplexity/COVID-19_commons/products/external_data_collection/VDH_wastewater/VDH dashboard/VDH-UVA WWS viral load and trends[33].xlsx\"\n",
    "load_df = pd.read_excel(data_file,sheet_name='Region and Load')\n",
    "trend_df = pd.read_excel(data_file,sheet_name='Trends')\n",
    "\n",
    "# Rename columns\n",
    "load_df.columns = ['Sewershed', 'VA Health Region', 'Attribute', 'Viral_Load']\n",
    "load_df['Attribute'] = pd.to_datetime(load_df['Attribute'])\n",
    "\n",
    "trend_df.columns = ['Sewershed', 'Attribute', 'Trends']\n",
    "trend_df['Attribute'] = pd.to_datetime(trend_df['Attribute'])\n",
    "\n",
    "# load sewershed to WWS\n",
    "WWS_key = pd.read_csv('/project/biocomplexity/COVID-19_commons/data/VDH_wastewater/county_mappings/sewershed_WWS_mapping.csv')\n",
    "\n",
    "# load WWS to district mapping\n",
    "district_key = pd.read_csv('/project/biocomplexity/COVID-19_commons/data/VDH_wastewater/county_mappings/WWS_to_District.csv')\n",
    "\n",
    "# isolation WWS ares to district with highest fraction\n",
    "# NOTE: could sum the fractions for each trend in each district and use the highest fraction for the trend for that district\n",
    "district_key_top = district_key.sort_values('Fraction', ascending=False).drop_duplicates('WWS').sort_index()"
   ]
  },
  {
   "cell_type": "code",
   "execution_count": null,
   "metadata": {},
   "outputs": [],
   "source": []
  },
  {
   "cell_type": "code",
   "execution_count": 13,
   "metadata": {},
   "outputs": [],
   "source": [
    "# Pull in raw hospitalization data by county\n",
    "county_hosp_data_raw = pd.read_csv('/project/biocomplexity/COVID-19_commons/data/COVIDCast/dsew-cpr_confirmed_admissions_covid_1d_7dav_county.csv',parse_dates=['time_value','issue'],dtype={'geo_value':str})\n",
    "county_hosp_data_raw = county_hosp_data_raw[['geo_value', 'time_value', 'issue', 'value']]\n",
    "county_hosp_data_raw['geo_value'] = county_hosp_data_raw['geo_value'].str.zfill(5)\n",
    "# filter for VA only\n",
    "county_hosp_data_raw = county_hosp_data_raw[county_hosp_data_raw['geo_value'].astype(int) >= 51000]\n",
    "county_hosp_data_raw = county_hosp_data_raw[county_hosp_data_raw['geo_value'].astype(int) < 52000]\n",
    "\n",
    "# get fips to district mapping\n",
    "vagov = pd.read_csv('/project/biocomplexity/COVID-19_commons/2019-nCoV_spread-modeling/US_National/VA/PatchSim/data/VA_Gov_Regions.csv',dtype={'GEOID':str})\n",
    "fips_to_dist = vagov.set_index('GEOID')['VDH_Dist'].reset_index()\n",
    "\n",
    "# merge mapping onto county hosp data\n",
    "county_hosp_data_raw = county_hosp_data_raw.merge(fips_to_dist, left_on='geo_value', right_on='GEOID')\n",
    "county_hosp_data_raw=county_hosp_data_raw.drop_duplicates()\n"
   ]
  },
  {
   "cell_type": "code",
   "execution_count": 11,
   "metadata": {},
   "outputs": [],
   "source": [
    "# adjust raw data to be weekly and line up with viral load Attribute dates\n",
    "county_hosp_data_adj = county_hosp_data_raw.copy()\n",
    "county_hosp_data_adj['value'] = county_hosp_data_adj['value'] * 7\n",
    "county_hosp_data_adj['time_value_adj'] = county_hosp_data_adj['time_value'] - timedelta(days=2)\n",
    "county_hosp_data_adj = county_hosp_data_adj.groupby(['time_value_adj', 'VDH_Dist']).sum().reset_index()\n",
    "# rename columns \n",
    "county_hosp_data_adj.columns = ['Attribute', 'District', 'hosps']\n"
   ]
  },
  {
   "cell_type": "code",
   "execution_count": 18,
   "metadata": {},
   "outputs": [
    {
     "data": {
      "text/plain": [
       "array(['Alexandria', 'Alleghany', 'Arlington', 'Blue Ridge',\n",
       "       'Central Shenandoah', 'Central Virginia', 'Chesapeake',\n",
       "       'Chesterfield', 'Chickahominy', 'Crater', 'Cumberland Plateau',\n",
       "       'Eastern Shore', 'Fairfax', 'Hampton', 'Henrico', 'Lenowisco',\n",
       "       'Lord Fairfax', 'Loudoun', 'Mount Rogers', 'New River', 'Norfolk',\n",
       "       'Peninsula', 'Piedmont', 'Pittsylvania-Danville', 'Portsmouth',\n",
       "       'Prince William', 'Rappahannock', 'Rappahannock Rapidan',\n",
       "       'Richmond', 'Roanoke', 'Southside', 'Thomas Jefferson',\n",
       "       'Three Rivers', 'Virginia Beach', 'West Piedmont',\n",
       "       'Western Tidewater', 'c'], dtype=object)"
      ]
     },
     "execution_count": 18,
     "metadata": {},
     "output_type": "execute_result"
    }
   ],
   "source": [
    "district_cases.District.unique()"
   ]
  },
  {
   "cell_type": "code",
   "execution_count": 15,
   "metadata": {},
   "outputs": [],
   "source": [
    "district_cases = pd.read_csv('/project/biocomplexity/COVID-19_commons/data/VDH_public/VDH-COVID-19-PublicUseDataset-Cases.csv', dtype={\"fips\":str}, parse_dates=['report_date'])\n",
    "\n",
    "# district_cases.vdh_health_district.unique()\n",
    "district_cases = district_cases[['report_date', 'fips', 'vdh_health_district', 'total_cases', 'deaths']]\n",
    "district_cases = pd.pivot_table(district_cases, values=\"total_cases\", index=\"report_date\", columns=\"vdh_health_district\", aggfunc=np.sum).diff()\n",
    "district_cases[district_cases < 0] = 0\n",
    "# district_cases = district_cases.sort_values([\"vdh_health_district\", \"report_date\"])\n",
    "district_cases = pd.melt(district_cases.reset_index(), id_vars=['report_date'], value_vars=district_cases.columns)\n",
    "# district_cases = district_cases.reset_index()\n",
    "district_cases.columns = ['Attribute', 'District', 'cases']\n"
   ]
  },
  {
   "cell_type": "code",
   "execution_count": 7,
   "metadata": {},
   "outputs": [
    {
     "data": {
      "text/plain": [
       "<matplotlib.axes._subplots.AxesSubplot at 0x7fc011625668>"
      ]
     },
     "execution_count": 7,
     "metadata": {},
     "output_type": "execute_result"
    },
    {
     "data": {
      "image/png": "[encoded data removed]",
      "text/plain": [
       "<Figure size 432x288 with 1 Axes>"
      ]
     },
     "metadata": {
      "needs_background": "light"
     },
     "output_type": "display_data"
    }
   ],
   "source": [
    "district_cases[district_cases.District=='Fairfax'].plot(x='Attribute',y='cases')"
   ]
  },
  {
   "cell_type": "code",
   "execution_count": 8,
   "metadata": {},
   "outputs": [],
   "source": [
    "color_dict = dict({'Increase':'red',\n",
    "                   'Plateau':'#2b8cbe',\n",
    "                   'Decrease': 'green',\n",
    "                   'Below Detection': 'grey',\n",
    "                   'No Trend Available': 'grey'})"
   ]
  },
  {
   "cell_type": "code",
   "execution_count": null,
   "metadata": {},
   "outputs": [],
   "source": []
  },
  {
   "cell_type": "code",
   "execution_count": 39,
   "metadata": {},
   "outputs": [],
   "source": [
    "# add sewershed name mapping\n",
    "vdh_df = trend_df.merge(WWS_key, left_on='Sewershed', right_on='Sewershed')\n",
    "# add district mapping\n",
    "vdh_df = vdh_df.merge(district_key, left_on='WWS', right_on='WWS')\n",
    "\n",
    "\n",
    "vdh_swrshd_pop = vdh_df.groupby(['Sewershed', 'Attribute'])['Intersect_Pop'].sum().reset_index()\n",
    "vdh_swrshd_pop.columns = ['Sewershed', 'Attribute', 'total_pop']\n",
    "vdh_df = vdh_df.merge(vdh_swrshd_pop, how='left', left_on=['Sewershed', 'Attribute'], right_on=['Sewershed', 'Attribute'])\n",
    "\n",
    "# add case data\n",
    "vdh_df = vdh_df.merge(district_cases, how='right', left_on=['District', 'Attribute'], right_on=['District', 'Attribute'])\n",
    "# add combined covid cases to db and adjust for cross-district\n",
    "vdh_df['case_frac'] = vdh_df['Fraction'] * vdh_df['cases']\n",
    "# vdh_df = vdh_df.dropna()\n",
    "\n",
    "# combine case fractions\n",
    "case_frac_adj = vdh_df.groupby(['Sewershed', 'Attribute'])['case_frac'].sum().reset_index()\n",
    "case_frac_adj.columns = ['Sewershed', 'Attribute', 'case_frac_tot']\n",
    "vdh_df = vdh_df.merge(case_frac_adj, left_on=['Sewershed', 'Attribute'], right_on=['Sewershed', 'Attribute'])\n",
    "\n",
    "# vdh_df\n",
    "\n",
    "# add hosp data\n",
    "vdh_df = vdh_df.merge(county_hosp_data_adj, how='right', left_on=['District', 'Attribute'], right_on=['District', 'Attribute'])\n",
    "# add combined covid cases to db and adjust for cross-district\n",
    "vdh_df['hosp_frac'] = vdh_df['Fraction'] * vdh_df['hosps']\n",
    "# vdh_df\n",
    "\n",
    "# # combine case fractions\n",
    "hosp_frac_adj = vdh_df.groupby(['Sewershed', 'Attribute'])['hosp_frac'].sum().reset_index()\n",
    "hosp_frac_adj\n",
    "hosp_frac_adj.columns = ['Sewershed', 'Attribute', 'hosp_frac_tot']\n",
    "vdh_df = vdh_df.merge(hosp_frac_adj, left_on=['Sewershed', 'Attribute'], right_on=['Sewershed', 'Attribute'])\n",
    "\n"
   ]
  },
  {
   "cell_type": "code",
   "execution_count": 10,
   "metadata": {},
   "outputs": [
    {
     "data": {
      "text/plain": [
       "<matplotlib.axes._subplots.AxesSubplot at 0x7fc0124e09b0>"
      ]
     },
     "execution_count": 10,
     "metadata": {},
     "output_type": "execute_result"
    },
    {
     "data": {
      "image/png": "[encoded data removed]",
      "text/plain": [
       "<Figure size 432x288 with 1 Axes>"
      ]
     },
     "metadata": {
      "needs_background": "light"
     },
     "output_type": "display_data"
    }
   ],
   "source": [
    "vdh_df[vdh_df.Sewershed==\"Alexandria Renew\"].groupby(['Sewershed','Attribute'],as_index=False).sum().plot(x='Attribute',y='cases')\n"
   ]
  },
  {
   "cell_type": "code",
   "execution_count": 45,
   "metadata": {},
   "outputs": [],
   "source": [
    "sdf=vdh_df.groupby(['Sewershed','Attribute'],as_index=False).sum()[['Sewershed','Attribute','case_frac_tot','hosp_frac_tot']]"
   ]
  },
  {
   "cell_type": "code",
   "execution_count": 46,
   "metadata": {},
   "outputs": [
    {
     "data": {
      "text/html": [
       "<div>\n",
       "<style scoped>\n",
       "    .dataframe tbody tr th:only-of-type {\n",
       "        vertical-align: middle;\n",
       "    }\n",
       "\n",
       "    .dataframe tbody tr th {\n",
       "        vertical-align: top;\n",
       "    }\n",
       "\n",
       "    .dataframe thead th {\n",
       "        text-align: right;\n",
       "    }\n",
       "</style>\n",
       "<table border=\"1\" class=\"dataframe\">\n",
       "  <thead>\n",
       "    <tr style=\"text-align: right;\">\n",
       "      <th></th>\n",
       "      <th>Sewershed</th>\n",
       "      <th>Attribute</th>\n",
       "      <th>case_frac_tot</th>\n",
       "      <th>hosp_frac_tot</th>\n",
       "    </tr>\n",
       "  </thead>\n",
       "  <tbody>\n",
       "    <tr>\n",
       "      <th>0</th>\n",
       "      <td>Alexandria Renew</td>\n",
       "      <td>2021-09-12</td>\n",
       "      <td>290.893369</td>\n",
       "      <td>281.321409</td>\n",
       "    </tr>\n",
       "    <tr>\n",
       "      <th>1</th>\n",
       "      <td>Alexandria Renew</td>\n",
       "      <td>2021-09-19</td>\n",
       "      <td>278.821385</td>\n",
       "      <td>242.134862</td>\n",
       "    </tr>\n",
       "    <tr>\n",
       "      <th>2</th>\n",
       "      <td>Alexandria Renew</td>\n",
       "      <td>2021-09-26</td>\n",
       "      <td>269.173209</td>\n",
       "      <td>300.433250</td>\n",
       "    </tr>\n",
       "    <tr>\n",
       "      <th>3</th>\n",
       "      <td>Alexandria Renew</td>\n",
       "      <td>2021-10-03</td>\n",
       "      <td>235.105008</td>\n",
       "      <td>252.188016</td>\n",
       "    </tr>\n",
       "    <tr>\n",
       "      <th>4</th>\n",
       "      <td>Alexandria Renew</td>\n",
       "      <td>2021-10-10</td>\n",
       "      <td>287.851482</td>\n",
       "      <td>262.241169</td>\n",
       "    </tr>\n",
       "    <tr>\n",
       "      <th>5</th>\n",
       "      <td>Alexandria Renew</td>\n",
       "      <td>2021-10-17</td>\n",
       "      <td>505.177116</td>\n",
       "      <td>186.704828</td>\n",
       "    </tr>\n",
       "    <tr>\n",
       "      <th>6</th>\n",
       "      <td>Alexandria Renew</td>\n",
       "      <td>2021-10-24</td>\n",
       "      <td>114.165726</td>\n",
       "      <td>141.754488</td>\n",
       "    </tr>\n",
       "    <tr>\n",
       "      <th>7</th>\n",
       "      <td>Alexandria Renew</td>\n",
       "      <td>2021-10-31</td>\n",
       "      <td>157.779049</td>\n",
       "      <td>143.520029</td>\n",
       "    </tr>\n",
       "    <tr>\n",
       "      <th>8</th>\n",
       "      <td>Alexandria Renew</td>\n",
       "      <td>2021-11-07</td>\n",
       "      <td>145.226404</td>\n",
       "      <td>45.508642</td>\n",
       "    </tr>\n",
       "    <tr>\n",
       "      <th>9</th>\n",
       "      <td>Alexandria Renew</td>\n",
       "      <td>2021-11-14</td>\n",
       "      <td>189.655417</td>\n",
       "      <td>71.283097</td>\n",
       "    </tr>\n",
       "    <tr>\n",
       "      <th>10</th>\n",
       "      <td>Alexandria Renew</td>\n",
       "      <td>2021-11-21</td>\n",
       "      <td>226.962586</td>\n",
       "      <td>25.557723</td>\n",
       "    </tr>\n",
       "    <tr>\n",
       "      <th>11</th>\n",
       "      <td>Alexandria Renew</td>\n",
       "      <td>2021-11-28</td>\n",
       "      <td>126.491195</td>\n",
       "      <td>167.942781</td>\n",
       "    </tr>\n",
       "    <tr>\n",
       "      <th>12</th>\n",
       "      <td>Alexandria Renew</td>\n",
       "      <td>2021-12-05</td>\n",
       "      <td>366.386069</td>\n",
       "      <td>225.591240</td>\n",
       "    </tr>\n",
       "    <tr>\n",
       "      <th>13</th>\n",
       "      <td>Alexandria Renew</td>\n",
       "      <td>2021-12-12</td>\n",
       "      <td>676.829806</td>\n",
       "      <td>321.579166</td>\n",
       "    </tr>\n",
       "    <tr>\n",
       "      <th>14</th>\n",
       "      <td>Alexandria Renew</td>\n",
       "      <td>2021-12-19</td>\n",
       "      <td>996.557248</td>\n",
       "      <td>392.122788</td>\n",
       "    </tr>\n",
       "    <tr>\n",
       "      <th>15</th>\n",
       "      <td>Alexandria Renew</td>\n",
       "      <td>2021-12-26</td>\n",
       "      <td>2009.389975</td>\n",
       "      <td>704.859218</td>\n",
       "    </tr>\n",
       "    <tr>\n",
       "      <th>16</th>\n",
       "      <td>Alexandria Renew</td>\n",
       "      <td>2022-01-02</td>\n",
       "      <td>6090.716724</td>\n",
       "      <td>1422.612856</td>\n",
       "    </tr>\n",
       "    <tr>\n",
       "      <th>17</th>\n",
       "      <td>Alexandria Renew</td>\n",
       "      <td>2022-01-09</td>\n",
       "      <td>4632.020251</td>\n",
       "      <td>1965.046277</td>\n",
       "    </tr>\n",
       "    <tr>\n",
       "      <th>18</th>\n",
       "      <td>Alexandria Renew</td>\n",
       "      <td>2022-01-16</td>\n",
       "      <td>4111.373822</td>\n",
       "      <td>1354.902215</td>\n",
       "    </tr>\n",
       "    <tr>\n",
       "      <th>19</th>\n",
       "      <td>Alexandria Renew</td>\n",
       "      <td>2022-01-23</td>\n",
       "      <td>1648.765434</td>\n",
       "      <td>1095.806962</td>\n",
       "    </tr>\n",
       "    <tr>\n",
       "      <th>20</th>\n",
       "      <td>Alexandria Renew</td>\n",
       "      <td>2022-01-30</td>\n",
       "      <td>1066.956371</td>\n",
       "      <td>768.737049</td>\n",
       "    </tr>\n",
       "    <tr>\n",
       "      <th>21</th>\n",
       "      <td>Alexandria Renew</td>\n",
       "      <td>2022-02-06</td>\n",
       "      <td>481.560299</td>\n",
       "      <td>602.909604</td>\n",
       "    </tr>\n",
       "    <tr>\n",
       "      <th>22</th>\n",
       "      <td>Alexandria Renew</td>\n",
       "      <td>2022-02-13</td>\n",
       "      <td>368.662900</td>\n",
       "      <td>448.242637</td>\n",
       "    </tr>\n",
       "    <tr>\n",
       "      <th>23</th>\n",
       "      <td>Alexandria Renew</td>\n",
       "      <td>2022-02-20</td>\n",
       "      <td>200.379849</td>\n",
       "      <td>214.195050</td>\n",
       "    </tr>\n",
       "    <tr>\n",
       "      <th>24</th>\n",
       "      <td>Alexandria Renew</td>\n",
       "      <td>2022-02-27</td>\n",
       "      <td>117.433286</td>\n",
       "      <td>95.638132</td>\n",
       "    </tr>\n",
       "    <tr>\n",
       "      <th>25</th>\n",
       "      <td>Alexandria Renew</td>\n",
       "      <td>2022-03-06</td>\n",
       "      <td>104.579974</td>\n",
       "      <td>70.471390</td>\n",
       "    </tr>\n",
       "    <tr>\n",
       "      <th>26</th>\n",
       "      <td>Alexandria Renew</td>\n",
       "      <td>2022-03-13</td>\n",
       "      <td>115.581969</td>\n",
       "      <td>85.571435</td>\n",
       "    </tr>\n",
       "    <tr>\n",
       "      <th>27</th>\n",
       "      <td>Alexandria Renew</td>\n",
       "      <td>2022-03-20</td>\n",
       "      <td>122.925254</td>\n",
       "      <td>65.695068</td>\n",
       "    </tr>\n",
       "    <tr>\n",
       "      <th>28</th>\n",
       "      <td>Alexandria Renew</td>\n",
       "      <td>2022-03-27</td>\n",
       "      <td>92.212618</td>\n",
       "      <td>52.269796</td>\n",
       "    </tr>\n",
       "    <tr>\n",
       "      <th>29</th>\n",
       "      <td>Alexandria Renew</td>\n",
       "      <td>2022-04-03</td>\n",
       "      <td>202.081462</td>\n",
       "      <td>81.761763</td>\n",
       "    </tr>\n",
       "    <tr>\n",
       "      <th>30</th>\n",
       "      <td>Alexandria Renew</td>\n",
       "      <td>2022-04-10</td>\n",
       "      <td>181.924239</td>\n",
       "      <td>62.336492</td>\n",
       "    </tr>\n",
       "    <tr>\n",
       "      <th>31</th>\n",
       "      <td>Alexandria Renew</td>\n",
       "      <td>2022-04-17</td>\n",
       "      <td>297.331453</td>\n",
       "      <td>78.403189</td>\n",
       "    </tr>\n",
       "    <tr>\n",
       "      <th>32</th>\n",
       "      <td>Alexandria Renew</td>\n",
       "      <td>2022-04-24</td>\n",
       "      <td>355.669940</td>\n",
       "      <td>114.606288</td>\n",
       "    </tr>\n",
       "    <tr>\n",
       "      <th>33</th>\n",
       "      <td>Alexandria Renew</td>\n",
       "      <td>2022-05-01</td>\n",
       "      <td>431.914401</td>\n",
       "      <td>73.726911</td>\n",
       "    </tr>\n",
       "    <tr>\n",
       "      <th>34</th>\n",
       "      <td>Alexandria Renew</td>\n",
       "      <td>2022-05-08</td>\n",
       "      <td>696.167851</td>\n",
       "      <td>107.895156</td>\n",
       "    </tr>\n",
       "    <tr>\n",
       "      <th>35</th>\n",
       "      <td>Alexandria Renew</td>\n",
       "      <td>2022-05-15</td>\n",
       "      <td>898.624193</td>\n",
       "      <td>109.572938</td>\n",
       "    </tr>\n",
       "    <tr>\n",
       "      <th>36</th>\n",
       "      <td>Alexandria Renew</td>\n",
       "      <td>2022-05-22</td>\n",
       "      <td>871.761610</td>\n",
       "      <td>168.553867</td>\n",
       "    </tr>\n",
       "    <tr>\n",
       "      <th>37</th>\n",
       "      <td>Alexandria Renew</td>\n",
       "      <td>2022-05-29</td>\n",
       "      <td>781.603125</td>\n",
       "      <td>132.350767</td>\n",
       "    </tr>\n",
       "    <tr>\n",
       "      <th>38</th>\n",
       "      <td>Alexandria Renew</td>\n",
       "      <td>2022-06-05</td>\n",
       "      <td>836.548709</td>\n",
       "      <td>120.961853</td>\n",
       "    </tr>\n",
       "    <tr>\n",
       "      <th>39</th>\n",
       "      <td>Alexandria Renew</td>\n",
       "      <td>2022-06-19</td>\n",
       "      <td>534.058812</td>\n",
       "      <td>150.452317</td>\n",
       "    </tr>\n",
       "    <tr>\n",
       "      <th>40</th>\n",
       "      <td>Alexandria Renew</td>\n",
       "      <td>2022-06-26</td>\n",
       "      <td>577.121242</td>\n",
       "      <td>144.098256</td>\n",
       "    </tr>\n",
       "    <tr>\n",
       "      <th>41</th>\n",
       "      <td>Alexandria Renew</td>\n",
       "      <td>2022-07-03</td>\n",
       "      <td>565.494618</td>\n",
       "      <td>127.674489</td>\n",
       "    </tr>\n",
       "    <tr>\n",
       "      <th>42</th>\n",
       "      <td>Alexandria Renew</td>\n",
       "      <td>2022-07-10</td>\n",
       "      <td>647.247353</td>\n",
       "      <td>139.063403</td>\n",
       "    </tr>\n",
       "    <tr>\n",
       "      <th>43</th>\n",
       "      <td>Alexandria Renew</td>\n",
       "      <td>2022-07-17</td>\n",
       "      <td>693.423655</td>\n",
       "      <td>130.672983</td>\n",
       "    </tr>\n",
       "    <tr>\n",
       "      <th>44</th>\n",
       "      <td>Alexandria Renew</td>\n",
       "      <td>2022-07-24</td>\n",
       "      <td>532.502142</td>\n",
       "      <td>174.909433</td>\n",
       "    </tr>\n",
       "    <tr>\n",
       "      <th>45</th>\n",
       "      <td>Alexandria Renew</td>\n",
       "      <td>2022-07-31</td>\n",
       "      <td>498.907361</td>\n",
       "      <td>147.096752</td>\n",
       "    </tr>\n",
       "    <tr>\n",
       "      <th>46</th>\n",
       "      <td>Alexandria Renew</td>\n",
       "      <td>2022-08-07</td>\n",
       "      <td>445.060075</td>\n",
       "      <td>183.299851</td>\n",
       "    </tr>\n",
       "    <tr>\n",
       "      <th>47</th>\n",
       "      <td>Alexandria Renew</td>\n",
       "      <td>2022-08-14</td>\n",
       "      <td>374.582417</td>\n",
       "      <td>150.452317</td>\n",
       "    </tr>\n",
       "    <tr>\n",
       "      <th>48</th>\n",
       "      <td>Alexandria Renew</td>\n",
       "      <td>2022-08-21</td>\n",
       "      <td>323.888855</td>\n",
       "      <td>139.063403</td>\n",
       "    </tr>\n",
       "    <tr>\n",
       "      <th>49</th>\n",
       "      <td>Alexandria Renew</td>\n",
       "      <td>2022-08-28</td>\n",
       "      <td>313.188747</td>\n",
       "      <td>99.861808</td>\n",
       "    </tr>\n",
       "    <tr>\n",
       "      <th>50</th>\n",
       "      <td>Alexandria Renew</td>\n",
       "      <td>2022-09-04</td>\n",
       "      <td>244.135104</td>\n",
       "      <td>150.452317</td>\n",
       "    </tr>\n",
       "    <tr>\n",
       "      <th>51</th>\n",
       "      <td>Alexandria Renew</td>\n",
       "      <td>2022-09-11</td>\n",
       "      <td>273.165443</td>\n",
       "      <td>112.928504</td>\n",
       "    </tr>\n",
       "    <tr>\n",
       "      <th>52</th>\n",
       "      <td>Alexandria Renew</td>\n",
       "      <td>2022-09-18</td>\n",
       "      <td>315.848230</td>\n",
       "      <td>127.674489</td>\n",
       "    </tr>\n",
       "    <tr>\n",
       "      <th>53</th>\n",
       "      <td>Alexandria Renew</td>\n",
       "      <td>2022-10-23</td>\n",
       "      <td>214.241169</td>\n",
       "      <td>85.115824</td>\n",
       "    </tr>\n",
       "    <tr>\n",
       "      <th>54</th>\n",
       "      <td>Alexandria Renew</td>\n",
       "      <td>2022-11-06</td>\n",
       "      <td>207.308880</td>\n",
       "      <td>94.826955</td>\n",
       "    </tr>\n",
       "    <tr>\n",
       "      <th>55</th>\n",
       "      <td>Alexandria Renew</td>\n",
       "      <td>2022-11-13</td>\n",
       "      <td>147.205826</td>\n",
       "      <td>101.539591</td>\n",
       "    </tr>\n",
       "    <tr>\n",
       "      <th>56</th>\n",
       "      <td>Alexandria Renew</td>\n",
       "      <td>2022-11-20</td>\n",
       "      <td>170.735167</td>\n",
       "      <td>90.150677</td>\n",
       "    </tr>\n",
       "    <tr>\n",
       "      <th>57</th>\n",
       "      <td>Alexandria Renew</td>\n",
       "      <td>2022-12-04</td>\n",
       "      <td>331.968322</td>\n",
       "      <td>170.231649</td>\n",
       "    </tr>\n",
       "    <tr>\n",
       "      <th>58</th>\n",
       "      <td>Alexandria Renew</td>\n",
       "      <td>2022-12-18</td>\n",
       "      <td>378.644600</td>\n",
       "      <td>176.587215</td>\n",
       "    </tr>\n",
       "    <tr>\n",
       "      <th>59</th>\n",
       "      <td>Alexandria Renew</td>\n",
       "      <td>2023-01-08</td>\n",
       "      <td>397.660380</td>\n",
       "      <td>526.761646</td>\n",
       "    </tr>\n",
       "  </tbody>\n",
       "</table>\n",
       "</div>"
      ],
      "text/plain": [
       "           Sewershed  Attribute  case_frac_tot  hosp_frac_tot\n",
       "0   Alexandria Renew 2021-09-12     290.893369     281.321409\n",
       "1   Alexandria Renew 2021-09-19     278.821385     242.134862\n",
       "2   Alexandria Renew 2021-09-26     269.173209     300.433250\n",
       "3   Alexandria Renew 2021-10-03     235.105008     252.188016\n",
       "4   Alexandria Renew 2021-10-10     287.851482     262.241169\n",
       "5   Alexandria Renew 2021-10-17     505.177116     186.704828\n",
       "6   Alexandria Renew 2021-10-24     114.165726     141.754488\n",
       "7   Alexandria Renew 2021-10-31     157.779049     143.520029\n",
       "8   Alexandria Renew 2021-11-07     145.226404      45.508642\n",
       "9   Alexandria Renew 2021-11-14     189.655417      71.283097\n",
       "10  Alexandria Renew 2021-11-21     226.962586      25.557723\n",
       "11  Alexandria Renew 2021-11-28     126.491195     167.942781\n",
       "12  Alexandria Renew 2021-12-05     366.386069     225.591240\n",
       "13  Alexandria Renew 2021-12-12     676.829806     321.579166\n",
       "14  Alexandria Renew 2021-12-19     996.557248     392.122788\n",
       "15  Alexandria Renew 2021-12-26    2009.389975     704.859218\n",
       "16  Alexandria Renew 2022-01-02    6090.716724    1422.612856\n",
       "17  Alexandria Renew 2022-01-09    4632.020251    1965.046277\n",
       "18  Alexandria Renew 2022-01-16    4111.373822    1354.902215\n",
       "19  Alexandria Renew 2022-01-23    1648.765434    1095.806962\n",
       "20  Alexandria Renew 2022-01-30    1066.956371     768.737049\n",
       "21  Alexandria Renew 2022-02-06     481.560299     602.909604\n",
       "22  Alexandria Renew 2022-02-13     368.662900     448.242637\n",
       "23  Alexandria Renew 2022-02-20     200.379849     214.195050\n",
       "24  Alexandria Renew 2022-02-27     117.433286      95.638132\n",
       "25  Alexandria Renew 2022-03-06     104.579974      70.471390\n",
       "26  Alexandria Renew 2022-03-13     115.581969      85.571435\n",
       "27  Alexandria Renew 2022-03-20     122.925254      65.695068\n",
       "28  Alexandria Renew 2022-03-27      92.212618      52.269796\n",
       "29  Alexandria Renew 2022-04-03     202.081462      81.761763\n",
       "30  Alexandria Renew 2022-04-10     181.924239      62.336492\n",
       "31  Alexandria Renew 2022-04-17     297.331453      78.403189\n",
       "32  Alexandria Renew 2022-04-24     355.669940     114.606288\n",
       "33  Alexandria Renew 2022-05-01     431.914401      73.726911\n",
       "34  Alexandria Renew 2022-05-08     696.167851     107.895156\n",
       "35  Alexandria Renew 2022-05-15     898.624193     109.572938\n",
       "36  Alexandria Renew 2022-05-22     871.761610     168.553867\n",
       "37  Alexandria Renew 2022-05-29     781.603125     132.350767\n",
       "38  Alexandria Renew 2022-06-05     836.548709     120.961853\n",
       "39  Alexandria Renew 2022-06-19     534.058812     150.452317\n",
       "40  Alexandria Renew 2022-06-26     577.121242     144.098256\n",
       "41  Alexandria Renew 2022-07-03     565.494618     127.674489\n",
       "42  Alexandria Renew 2022-07-10     647.247353     139.063403\n",
       "43  Alexandria Renew 2022-07-17     693.423655     130.672983\n",
       "44  Alexandria Renew 2022-07-24     532.502142     174.909433\n",
       "45  Alexandria Renew 2022-07-31     498.907361     147.096752\n",
       "46  Alexandria Renew 2022-08-07     445.060075     183.299851\n",
       "47  Alexandria Renew 2022-08-14     374.582417     150.452317\n",
       "48  Alexandria Renew 2022-08-21     323.888855     139.063403\n",
       "49  Alexandria Renew 2022-08-28     313.188747      99.861808\n",
       "50  Alexandria Renew 2022-09-04     244.135104     150.452317\n",
       "51  Alexandria Renew 2022-09-11     273.165443     112.928504\n",
       "52  Alexandria Renew 2022-09-18     315.848230     127.674489\n",
       "53  Alexandria Renew 2022-10-23     214.241169      85.115824\n",
       "54  Alexandria Renew 2022-11-06     207.308880      94.826955\n",
       "55  Alexandria Renew 2022-11-13     147.205826     101.539591\n",
       "56  Alexandria Renew 2022-11-20     170.735167      90.150677\n",
       "57  Alexandria Renew 2022-12-04     331.968322     170.231649\n",
       "58  Alexandria Renew 2022-12-18     378.644600     176.587215\n",
       "59  Alexandria Renew 2023-01-08     397.660380     526.761646"
      ]
     },
     "execution_count": 46,
     "metadata": {},
     "output_type": "execute_result"
    }
   ],
   "source": [
    "sdf[sdf.Sewershed=='Alexandria Renew']"
   ]
  },
  {
   "cell_type": "code",
   "execution_count": 44,
   "metadata": {},
   "outputs": [],
   "source": [
    "sdf=sdf.merge(load_df,on=['Sewershed','Attribute'],how='left')"
   ]
  },
  {
   "cell_type": "code",
   "execution_count": 30,
   "metadata": {},
   "outputs": [
    {
     "data": {
      "text/plain": [
       "<matplotlib.axes._subplots.AxesSubplot at 0x7fc011ddaeb8>"
      ]
     },
     "execution_count": 30,
     "metadata": {},
     "output_type": "execute_result"
    },
    {
     "data": {
      "image/png": "[encoded data removed]",
      "text/plain": [
       "<Figure size 432x288 with 2 Axes>"
      ]
     },
     "metadata": {
      "needs_background": "light"
     },
     "output_type": "display_data"
    }
   ],
   "source": [
    "_,ax=plt.subplots()\n",
    "sdf[sdf.Sewershed=='Alexandria Renew'].plot(x='Attribute',y='case_frac_tot',ax=ax)\n",
    "sdf[sdf.Sewershed=='Alexandria Renew'].plot(x='Attribute',y='hosp_frac_tot',ax=ax)\n",
    "\n",
    "ax2=ax.twinx()\n",
    "sdf[sdf.Sewershed=='Alexandria Renew'].plot(x='Attribute',y='Viral_Load',ax=ax2,color='k')"
   ]
  },
  {
   "cell_type": "code",
   "execution_count": null,
   "metadata": {},
   "outputs": [],
   "source": []
  },
  {
   "cell_type": "code",
   "execution_count": 32,
   "metadata": {},
   "outputs": [],
   "source": [
    "sdf.to_csv('input/ww_cases_hosp.csv',index=None)"
   ]
  },
  {
   "cell_type": "code",
   "execution_count": 37,
   "metadata": {},
   "outputs": [
    {
     "data": {
      "text/html": [
       "<div>\n",
       "<style scoped>\n",
       "    .dataframe tbody tr th:only-of-type {\n",
       "        vertical-align: middle;\n",
       "    }\n",
       "\n",
       "    .dataframe tbody tr th {\n",
       "        vertical-align: top;\n",
       "    }\n",
       "\n",
       "    .dataframe thead th {\n",
       "        text-align: right;\n",
       "    }\n",
       "</style>\n",
       "<table border=\"1\" class=\"dataframe\">\n",
       "  <thead>\n",
       "    <tr style=\"text-align: right;\">\n",
       "      <th></th>\n",
       "      <th>Sewershed</th>\n",
       "      <th>Attribute</th>\n",
       "      <th>Trends</th>\n",
       "      <th>WWS</th>\n",
       "      <th>District</th>\n",
       "      <th>Intersect_Pop</th>\n",
       "      <th>Fraction</th>\n",
       "      <th>total_pop</th>\n",
       "      <th>cases</th>\n",
       "      <th>case_frac</th>\n",
       "      <th>case_frac_tot</th>\n",
       "      <th>hosps</th>\n",
       "      <th>hosp_frac</th>\n",
       "      <th>hosp_frac_tot</th>\n",
       "    </tr>\n",
       "  </thead>\n",
       "  <tbody>\n",
       "    <tr>\n",
       "      <th>0</th>\n",
       "      <td>Alexandria Renew</td>\n",
       "      <td>2021-09-12</td>\n",
       "      <td>No Trend Available</td>\n",
       "      <td>Alexandria Renew Enterprises</td>\n",
       "      <td>Alexandria</td>\n",
       "      <td>149200</td>\n",
       "      <td>0.440237</td>\n",
       "      <td>338908</td>\n",
       "      <td>36.0</td>\n",
       "      <td>15.848549</td>\n",
       "      <td>96.964456</td>\n",
       "      <td>30.0</td>\n",
       "      <td>13.207124</td>\n",
       "      <td>93.773803</td>\n",
       "    </tr>\n",
       "    <tr>\n",
       "      <th>1</th>\n",
       "      <td>Alexandria Renew</td>\n",
       "      <td>2021-09-12</td>\n",
       "      <td>No Trend Available</td>\n",
       "      <td>Alexandria Renew Enterprises</td>\n",
       "      <td>Arlington</td>\n",
       "      <td>170</td>\n",
       "      <td>0.000502</td>\n",
       "      <td>338908</td>\n",
       "      <td>46.0</td>\n",
       "      <td>0.023074</td>\n",
       "      <td>96.964456</td>\n",
       "      <td>66.0</td>\n",
       "      <td>0.033106</td>\n",
       "      <td>93.773803</td>\n",
       "    </tr>\n",
       "    <tr>\n",
       "      <th>2</th>\n",
       "      <td>Alexandria Renew</td>\n",
       "      <td>2021-09-12</td>\n",
       "      <td>No Trend Available</td>\n",
       "      <td>Alexandria Renew Enterprises</td>\n",
       "      <td>Fairfax</td>\n",
       "      <td>189538</td>\n",
       "      <td>0.559261</td>\n",
       "      <td>338908</td>\n",
       "      <td>145.0</td>\n",
       "      <td>81.092833</td>\n",
       "      <td>96.964456</td>\n",
       "      <td>144.0</td>\n",
       "      <td>80.533572</td>\n",
       "      <td>93.773803</td>\n",
       "    </tr>\n",
       "    <tr>\n",
       "      <th>3</th>\n",
       "      <td>Alexandria Renew</td>\n",
       "      <td>2021-09-12</td>\n",
       "      <td>No Trend Available</td>\n",
       "      <td>Alexandria Renew Enterprises</td>\n",
       "      <td>OutsideVA</td>\n",
       "      <td>0</td>\n",
       "      <td>0.000000</td>\n",
       "      <td>338908</td>\n",
       "      <td>NaN</td>\n",
       "      <td>NaN</td>\n",
       "      <td>96.964456</td>\n",
       "      <td>NaN</td>\n",
       "      <td>NaN</td>\n",
       "      <td>93.773803</td>\n",
       "    </tr>\n",
       "    <tr>\n",
       "      <th>4</th>\n",
       "      <td>Alexandria Renew</td>\n",
       "      <td>2021-09-19</td>\n",
       "      <td>Decrease</td>\n",
       "      <td>Alexandria Renew Enterprises</td>\n",
       "      <td>Alexandria</td>\n",
       "      <td>149200</td>\n",
       "      <td>0.440237</td>\n",
       "      <td>338908</td>\n",
       "      <td>18.0</td>\n",
       "      <td>7.924274</td>\n",
       "      <td>92.940462</td>\n",
       "      <td>27.0</td>\n",
       "      <td>11.886412</td>\n",
       "      <td>80.711621</td>\n",
       "    </tr>\n",
       "    <tr>\n",
       "      <th>...</th>\n",
       "      <td>...</td>\n",
       "      <td>...</td>\n",
       "      <td>...</td>\n",
       "      <td>...</td>\n",
       "      <td>...</td>\n",
       "      <td>...</td>\n",
       "      <td>...</td>\n",
       "      <td>...</td>\n",
       "      <td>...</td>\n",
       "      <td>...</td>\n",
       "      <td>...</td>\n",
       "      <td>...</td>\n",
       "      <td>...</td>\n",
       "      <td>...</td>\n",
       "    </tr>\n",
       "    <tr>\n",
       "      <th>235</th>\n",
       "      <td>Alexandria Renew</td>\n",
       "      <td>2022-12-18</td>\n",
       "      <td>Plateau</td>\n",
       "      <td>Alexandria Renew Enterprises</td>\n",
       "      <td>OutsideVA</td>\n",
       "      <td>0</td>\n",
       "      <td>0.000000</td>\n",
       "      <td>338908</td>\n",
       "      <td>NaN</td>\n",
       "      <td>NaN</td>\n",
       "      <td>126.214867</td>\n",
       "      <td>NaN</td>\n",
       "      <td>NaN</td>\n",
       "      <td>58.862405</td>\n",
       "    </tr>\n",
       "    <tr>\n",
       "      <th>236</th>\n",
       "      <td>Alexandria Renew</td>\n",
       "      <td>2023-01-08</td>\n",
       "      <td>Increase</td>\n",
       "      <td>Alexandria Renew Enterprises</td>\n",
       "      <td>Alexandria</td>\n",
       "      <td>149200</td>\n",
       "      <td>0.440237</td>\n",
       "      <td>338908</td>\n",
       "      <td>33.0</td>\n",
       "      <td>14.527836</td>\n",
       "      <td>132.553460</td>\n",
       "      <td>38.0</td>\n",
       "      <td>16.729024</td>\n",
       "      <td>175.587215</td>\n",
       "    </tr>\n",
       "    <tr>\n",
       "      <th>237</th>\n",
       "      <td>Alexandria Renew</td>\n",
       "      <td>2023-01-08</td>\n",
       "      <td>Increase</td>\n",
       "      <td>Alexandria Renew Enterprises</td>\n",
       "      <td>Arlington</td>\n",
       "      <td>170</td>\n",
       "      <td>0.000502</td>\n",
       "      <td>338908</td>\n",
       "      <td>43.0</td>\n",
       "      <td>0.021569</td>\n",
       "      <td>132.553460</td>\n",
       "      <td>56.0</td>\n",
       "      <td>0.028090</td>\n",
       "      <td>175.587215</td>\n",
       "    </tr>\n",
       "    <tr>\n",
       "      <th>238</th>\n",
       "      <td>Alexandria Renew</td>\n",
       "      <td>2023-01-08</td>\n",
       "      <td>Increase</td>\n",
       "      <td>Alexandria Renew Enterprises</td>\n",
       "      <td>Fairfax</td>\n",
       "      <td>189538</td>\n",
       "      <td>0.559261</td>\n",
       "      <td>338908</td>\n",
       "      <td>211.0</td>\n",
       "      <td>118.004054</td>\n",
       "      <td>132.553460</td>\n",
       "      <td>284.0</td>\n",
       "      <td>158.830101</td>\n",
       "      <td>175.587215</td>\n",
       "    </tr>\n",
       "    <tr>\n",
       "      <th>239</th>\n",
       "      <td>Alexandria Renew</td>\n",
       "      <td>2023-01-08</td>\n",
       "      <td>Increase</td>\n",
       "      <td>Alexandria Renew Enterprises</td>\n",
       "      <td>OutsideVA</td>\n",
       "      <td>0</td>\n",
       "      <td>0.000000</td>\n",
       "      <td>338908</td>\n",
       "      <td>NaN</td>\n",
       "      <td>NaN</td>\n",
       "      <td>132.553460</td>\n",
       "      <td>NaN</td>\n",
       "      <td>NaN</td>\n",
       "      <td>175.587215</td>\n",
       "    </tr>\n",
       "  </tbody>\n",
       "</table>\n",
       "<p>240 rows × 14 columns</p>\n",
       "</div>"
      ],
      "text/plain": [
       "            Sewershed  Attribute              Trends  \\\n",
       "0    Alexandria Renew 2021-09-12  No Trend Available   \n",
       "1    Alexandria Renew 2021-09-12  No Trend Available   \n",
       "2    Alexandria Renew 2021-09-12  No Trend Available   \n",
       "3    Alexandria Renew 2021-09-12  No Trend Available   \n",
       "4    Alexandria Renew 2021-09-19            Decrease   \n",
       "..                ...        ...                 ...   \n",
       "235  Alexandria Renew 2022-12-18             Plateau   \n",
       "236  Alexandria Renew 2023-01-08            Increase   \n",
       "237  Alexandria Renew 2023-01-08            Increase   \n",
       "238  Alexandria Renew 2023-01-08            Increase   \n",
       "239  Alexandria Renew 2023-01-08            Increase   \n",
       "\n",
       "                              WWS    District  Intersect_Pop  Fraction  \\\n",
       "0    Alexandria Renew Enterprises  Alexandria         149200  0.440237   \n",
       "1    Alexandria Renew Enterprises   Arlington            170  0.000502   \n",
       "2    Alexandria Renew Enterprises     Fairfax         189538  0.559261   \n",
       "3    Alexandria Renew Enterprises   OutsideVA              0  0.000000   \n",
       "4    Alexandria Renew Enterprises  Alexandria         149200  0.440237   \n",
       "..                            ...         ...            ...       ...   \n",
       "235  Alexandria Renew Enterprises   OutsideVA              0  0.000000   \n",
       "236  Alexandria Renew Enterprises  Alexandria         149200  0.440237   \n",
       "237  Alexandria Renew Enterprises   Arlington            170  0.000502   \n",
       "238  Alexandria Renew Enterprises     Fairfax         189538  0.559261   \n",
       "239  Alexandria Renew Enterprises   OutsideVA              0  0.000000   \n",
       "\n",
       "     total_pop  cases   case_frac  case_frac_tot  hosps   hosp_frac  \\\n",
       "0       338908   36.0   15.848549      96.964456   30.0   13.207124   \n",
       "1       338908   46.0    0.023074      96.964456   66.0    0.033106   \n",
       "2       338908  145.0   81.092833      96.964456  144.0   80.533572   \n",
       "3       338908    NaN         NaN      96.964456    NaN         NaN   \n",
       "4       338908   18.0    7.924274      92.940462   27.0   11.886412   \n",
       "..         ...    ...         ...            ...    ...         ...   \n",
       "235     338908    NaN         NaN     126.214867    NaN         NaN   \n",
       "236     338908   33.0   14.527836     132.553460   38.0   16.729024   \n",
       "237     338908   43.0    0.021569     132.553460   56.0    0.028090   \n",
       "238     338908  211.0  118.004054     132.553460  284.0  158.830101   \n",
       "239     338908    NaN         NaN     132.553460    NaN         NaN   \n",
       "\n",
       "     hosp_frac_tot  \n",
       "0        93.773803  \n",
       "1        93.773803  \n",
       "2        93.773803  \n",
       "3        93.773803  \n",
       "4        80.711621  \n",
       "..             ...  \n",
       "235      58.862405  \n",
       "236     175.587215  \n",
       "237     175.587215  \n",
       "238     175.587215  \n",
       "239     175.587215  \n",
       "\n",
       "[240 rows x 14 columns]"
      ]
     },
     "execution_count": 37,
     "metadata": {},
     "output_type": "execute_result"
    }
   ],
   "source": [
    "vdh_df[vdh_df.Sewershed=='Alexandria Renew']"
   ]
  },
  {
   "cell_type": "code",
   "execution_count": null,
   "metadata": {},
   "outputs": [],
   "source": []
  },
  {
   "cell_type": "code",
   "execution_count": 2,
   "metadata": {},
   "outputs": [],
   "source": [
    "df=pd.read_csv('/project/biocomplexity/COVID-19_commons/data/opioids_url/Sewershed_PCR_Conc.csv',date_parser=True)\n",
    "df.sample_collect_date=pd.to_datetime(df.sample_collect_date)\n",
    "df.test_result_date=pd.to_datetime(df.test_result_date)\n",
    "# doub_sites=df[(df.sample_collect_date>='2023-08-12')&(df.test_result_date>='2023-08-22')].wwtp_name.unique()\n",
    "# df[(df.sample_collect_date>='2023-08-05')&(df.sample_collect_date<='2023-08-11')&(df.wwtp_name.isin(doub_sites))]"
   ]
  },
  {
   "cell_type": "code",
   "execution_count": 7,
   "metadata": {},
   "outputs": [
    {
     "data": {
      "text/plain": [
       "<matplotlib.axes._subplots.AxesSubplot at 0x7f30ddea0898>"
      ]
     },
     "execution_count": 7,
     "metadata": {},
     "output_type": "execute_result"
    },
    {
     "data": {
      "image/png": "[encoded data removed]",
      "text/plain": [
       "<Figure size 432x288 with 1 Axes>"
      ]
     },
     "metadata": {
      "needs_background": "light"
     },
     "output_type": "display_data"
    }
   ],
   "source": [
    "df[df.population_served==530848].plot(x='sample_collect_date',y='viral_load')"
   ]
  },
  {
   "cell_type": "code",
   "execution_count": 19,
   "metadata": {},
   "outputs": [
    {
     "data": {
      "text/plain": [
       "<matplotlib.axes._subplots.AxesSubplot at 0x7f30d582b9b0>"
      ]
     },
     "execution_count": 19,
     "metadata": {},
     "output_type": "execute_result"
    },
    {
     "data": {
      "image/png": "[encoded data removed]",
      "text/plain": [
       "<Figure size 432x288 with 1 Axes>"
      ]
     },
     "metadata": {
      "needs_background": "light"
     },
     "output_type": "display_data"
    }
   ],
   "source": [
    "df[df.sewershed=='MooresCreek'].plot(x='sample_collect_date',y='viral_load')"
   ]
  },
  {
   "cell_type": "code",
   "execution_count": 16,
   "metadata": {},
   "outputs": [],
   "source": [
    "import epiweeks as epi"
   ]
  },
  {
   "cell_type": "code",
   "execution_count": 242,
   "metadata": {},
   "outputs": [],
   "source": [
    "def conv_epiweek(x):\n",
    "    week=Week.fromdate(pd.to_datetime(x))\n",
    "    return str(week.year)+'EW'+'{:02}'.format(week.week)"
   ]
  },
  {
   "cell_type": "code",
   "execution_count": 243,
   "metadata": {},
   "outputs": [],
   "source": [
    "df.loc[:,'EW']=df.sample_collect_date.apply(lambda x: conv_epiweek(x))"
   ]
  },
  {
   "cell_type": "code",
   "execution_count": null,
   "metadata": {},
   "outputs": [],
   "source": []
  },
  {
   "cell_type": "code",
   "execution_count": 244,
   "metadata": {},
   "outputs": [],
   "source": [
    "double_ww_dict={}"
   ]
  },
  {
   "cell_type": "code",
   "execution_count": 245,
   "metadata": {},
   "outputs": [],
   "source": [
    "for i in range(10,34):\n",
    "    ew='2023EW'+str(i)\n",
    "    a=df[df.EW==ew][['wwtp_name']]\n",
    "    sites=list(a[a.duplicated()]['wwtp_name'].values)\n",
    "    double_ww_dict[ew]=sites"
   ]
  },
  {
   "cell_type": "code",
   "execution_count": 246,
   "metadata": {},
   "outputs": [
    {
     "data": {
      "text/plain": [
       "{5}"
      ]
     },
     "execution_count": 246,
     "metadata": {},
     "output_type": "execute_result"
    }
   ],
   "source": [
    "set.symmetric_difference(set([1,2,3,4]),set([1,2,3,4,5]))"
   ]
  },
  {
   "cell_type": "code",
   "execution_count": 247,
   "metadata": {},
   "outputs": [
    {
     "data": {
      "text/plain": [
       "set()"
      ]
     },
     "execution_count": 247,
     "metadata": {},
     "output_type": "execute_result"
    }
   ],
   "source": [
    "set.symmetric_difference(set(double_ww_dict['2023EW23']),set(double_ww_dict['2023EW24']))"
   ]
  },
  {
   "cell_type": "code",
   "execution_count": 248,
   "metadata": {},
   "outputs": [],
   "source": [
    "ddf=df[(df.EW>='2023EW10')&(df.wwtp_name.isin(double_ww_dict['2023EW30']))]"
   ]
  },
  {
   "cell_type": "code",
   "execution_count": 303,
   "metadata": {},
   "outputs": [
    {
     "data": {
      "text/plain": [
       "Text(0, 0.5, 'VL')"
      ]
     },
     "execution_count": 303,
     "metadata": {},
     "output_type": "execute_result"
    },
    {
     "data": {
      "image/png": "[encoded data removed]",
      "text/plain": [
       "<Figure size 432x288 with 1 Axes>"
      ]
     },
     "metadata": {
      "needs_background": "light"
     },
     "output_type": "display_data"
    }
   ],
   "source": [
    "_,ax=plt.subplots()\n",
    "l='Alexandria Renew Enterprises'\n",
    "temp[(temp.wwtp_name==l)&(temp.res=='test1')][['EW','viral_load']].plot(x='EW',y='viral_load',ax=ax,label='test1')\n",
    "temp[(temp.wwtp_name==l)&(temp.res=='test2')][['EW','viral_load']].plot(x='EW',y='viral_load',ax=ax,label='test2')\n",
    "ax.set_title(l)\n",
    "ax.set_ylabel('VL')"
   ]
  },
  {
   "cell_type": "code",
   "execution_count": 261,
   "metadata": {},
   "outputs": [
    {
     "name": "stdout",
     "output_type": "stream",
     "text": [
      "Low Moor Wastewater Treatment Plant\n"
     ]
    }
   ],
   "source": [
    "qdf=pd.DataFrame()\n",
    "for l in ddf.wwtp_name.unique():\n",
    "    try:\n",
    "        temp_data=ddf[ddf.wwtp_name==l][['EW','wwtp_name','sample_collect_date','test_result_date','viral_load']]\n",
    "        quins=pd.qcut(temp_data['viral_load'],q=5,labels=False)\n",
    "        temp_data.loc[:,'quin_levels']=quins\n",
    "        qdf=qdf.append(temp_data)\n",
    "    except:\n",
    "        print(l)\n",
    "qdf.loc[:,'quin_levels']=qdf['quin_levels']+1  "
   ]
  },
  {
   "cell_type": "code",
   "execution_count": 283,
   "metadata": {},
   "outputs": [
    {
     "data": {
      "text/html": [
       "<div>\n",
       "<style scoped>\n",
       "    .dataframe tbody tr th:only-of-type {\n",
       "        vertical-align: middle;\n",
       "    }\n",
       "\n",
       "    .dataframe tbody tr th {\n",
       "        vertical-align: top;\n",
       "    }\n",
       "\n",
       "    .dataframe thead th {\n",
       "        text-align: right;\n",
       "    }\n",
       "</style>\n",
       "<table border=\"1\" class=\"dataframe\">\n",
       "  <thead>\n",
       "    <tr style=\"text-align: right;\">\n",
       "      <th></th>\n",
       "      <th>sample_id</th>\n",
       "      <th>wwtp_name</th>\n",
       "      <th>sewershed</th>\n",
       "      <th>population_served</th>\n",
       "      <th>sample_type</th>\n",
       "      <th>sample_matrix</th>\n",
       "      <th>sample_collect_date</th>\n",
       "      <th>sample_collect_time</th>\n",
       "      <th>flow_rate</th>\n",
       "      <th>test_result_date</th>\n",
       "      <th>pcr_target_avg_conc</th>\n",
       "      <th>pcr_target_below_lod</th>\n",
       "      <th>lod_sewage</th>\n",
       "      <th>rec_eff_percent</th>\n",
       "      <th>viral_load</th>\n",
       "      <th>EW</th>\n",
       "    </tr>\n",
       "  </thead>\n",
       "  <tbody>\n",
       "    <tr>\n",
       "      <th>2695</th>\n",
       "      <td>NaN</td>\n",
       "      <td>Alexandria Renew Enterprises</td>\n",
       "      <td>ARenew</td>\n",
       "      <td>300000</td>\n",
       "      <td>24-hr flow-weighted composite</td>\n",
       "      <td>post grit removal</td>\n",
       "      <td>2023-05-15</td>\n",
       "      <td>7:00</td>\n",
       "      <td>34.8</td>\n",
       "      <td>2023-05-18</td>\n",
       "      <td>13586.1875</td>\n",
       "      <td>False</td>\n",
       "      <td>6200</td>\n",
       "      <td>4.27</td>\n",
       "      <td>1.790000e+12</td>\n",
       "      <td>2023EW20</td>\n",
       "    </tr>\n",
       "    <tr>\n",
       "      <th>2724</th>\n",
       "      <td>NaN</td>\n",
       "      <td>Alexandria Renew Enterprises</td>\n",
       "      <td>ARenew</td>\n",
       "      <td>300000</td>\n",
       "      <td>24-hr flow-weighted composite</td>\n",
       "      <td>post-grit removal</td>\n",
       "      <td>2023-05-17</td>\n",
       "      <td>7:00</td>\n",
       "      <td>35.0</td>\n",
       "      <td>2023-05-24</td>\n",
       "      <td>25682.9875</td>\n",
       "      <td>False</td>\n",
       "      <td>6200</td>\n",
       "      <td>4.39</td>\n",
       "      <td>3.400000e+12</td>\n",
       "      <td>2023EW20</td>\n",
       "    </tr>\n",
       "  </tbody>\n",
       "</table>\n",
       "</div>"
      ],
      "text/plain": [
       "      sample_id                     wwtp_name sewershed  population_served  \\\n",
       "2695        NaN  Alexandria Renew Enterprises    ARenew             300000   \n",
       "2724        NaN  Alexandria Renew Enterprises    ARenew             300000   \n",
       "\n",
       "                        sample_type      sample_matrix sample_collect_date  \\\n",
       "2695  24-hr flow-weighted composite  post grit removal          2023-05-15   \n",
       "2724  24-hr flow-weighted composite  post-grit removal          2023-05-17   \n",
       "\n",
       "     sample_collect_time  flow_rate test_result_date  pcr_target_avg_conc  \\\n",
       "2695                7:00       34.8       2023-05-18           13586.1875   \n",
       "2724                7:00       35.0       2023-05-24           25682.9875   \n",
       "\n",
       "      pcr_target_below_lod  lod_sewage rec_eff_percent    viral_load        EW  \n",
       "2695                 False        6200            4.27  1.790000e+12  2023EW20  \n",
       "2724                 False        6200            4.39  3.400000e+12  2023EW20  "
      ]
     },
     "execution_count": 283,
     "metadata": {},
     "output_type": "execute_result"
    }
   ],
   "source": [
    "df[(df.EW=='2023EW20')&(df.wwtp_name=='Alexandria Renew Enterprises')]"
   ]
  },
  {
   "cell_type": "code",
   "execution_count": 263,
   "metadata": {},
   "outputs": [],
   "source": [
    "temp1=qdf.groupby(['EW','wwtp_name'])['sample_collect_date'].agg([min]).reset_index().rename(columns={'min':'sample_collect_date'})\n",
    "temp1.loc[:,'res']='test1'\n",
    "temp2=qdf.groupby(['EW','wwtp_name'])['sample_collect_date'].agg([max]).reset_index().rename(columns={'max':'sample_collect_date'})\n",
    "temp2.loc[:,'res']='test2'"
   ]
  },
  {
   "cell_type": "code",
   "execution_count": 264,
   "metadata": {},
   "outputs": [],
   "source": [
    "temp=temp1.append(temp2)"
   ]
  },
  {
   "cell_type": "code",
   "execution_count": 265,
   "metadata": {},
   "outputs": [
    {
     "data": {
      "text/plain": [
       "(565, 6)"
      ]
     },
     "execution_count": 265,
     "metadata": {},
     "output_type": "execute_result"
    }
   ],
   "source": [
    "qdf.shape"
   ]
  },
  {
   "cell_type": "code",
   "execution_count": 266,
   "metadata": {},
   "outputs": [
    {
     "data": {
      "text/html": [
       "<div>\n",
       "<style scoped>\n",
       "    .dataframe tbody tr th:only-of-type {\n",
       "        vertical-align: middle;\n",
       "    }\n",
       "\n",
       "    .dataframe tbody tr th {\n",
       "        vertical-align: top;\n",
       "    }\n",
       "\n",
       "    .dataframe thead th {\n",
       "        text-align: right;\n",
       "    }\n",
       "</style>\n",
       "<table border=\"1\" class=\"dataframe\">\n",
       "  <thead>\n",
       "    <tr style=\"text-align: right;\">\n",
       "      <th></th>\n",
       "      <th>EW</th>\n",
       "      <th>wwtp_name</th>\n",
       "      <th>sample_collect_date</th>\n",
       "      <th>res</th>\n",
       "    </tr>\n",
       "  </thead>\n",
       "  <tbody>\n",
       "    <tr>\n",
       "      <th>129</th>\n",
       "      <td>2023EW21</td>\n",
       "      <td>Alexandria Renew Enterprises</td>\n",
       "      <td>2023-05-22</td>\n",
       "      <td>test1</td>\n",
       "    </tr>\n",
       "    <tr>\n",
       "      <th>129</th>\n",
       "      <td>2023EW21</td>\n",
       "      <td>Alexandria Renew Enterprises</td>\n",
       "      <td>2023-05-24</td>\n",
       "      <td>test2</td>\n",
       "    </tr>\n",
       "  </tbody>\n",
       "</table>\n",
       "</div>"
      ],
      "text/plain": [
       "           EW                     wwtp_name sample_collect_date    res\n",
       "129  2023EW21  Alexandria Renew Enterprises          2023-05-22  test1\n",
       "129  2023EW21  Alexandria Renew Enterprises          2023-05-24  test2"
      ]
     },
     "execution_count": 266,
     "metadata": {},
     "output_type": "execute_result"
    }
   ],
   "source": [
    "temp[(temp.EW=='2023EW21')&(temp.wwtp_name=='Alexandria Renew Enterprises')]"
   ]
  },
  {
   "cell_type": "code",
   "execution_count": 267,
   "metadata": {},
   "outputs": [],
   "source": [
    "temp=temp.merge(qdf)"
   ]
  },
  {
   "cell_type": "code",
   "execution_count": 270,
   "metadata": {},
   "outputs": [],
   "source": [
    "ptemp=temp.pivot(index=['EW','wwtp_name'],columns='res',values='quin_levels')"
   ]
  },
  {
   "cell_type": "code",
   "execution_count": 287,
   "metadata": {},
   "outputs": [
    {
     "data": {
      "text/plain": [
       "(5.0, 0.0)"
      ]
     },
     "execution_count": 287,
     "metadata": {},
     "output_type": "execute_result"
    },
    {
     "data": {
      "image/png": "[encoded data removed]",
      "text/plain": [
       "<Figure size 432x288 with 2 Axes>"
      ]
     },
     "metadata": {
      "needs_background": "light"
     },
     "output_type": "display_data"
    }
   ],
   "source": [
    "_,ax=plt.subplots()\n",
    "sns.heatmap(cm,square=True, annot=True,ax=ax)\n",
    "wid=ax.get_ylim()\n",
    "ax.set_ylim(wid[0]+0.5, wid[1]-0.5)"
   ]
  },
  {
   "cell_type": "code",
   "execution_count": 276,
   "metadata": {},
   "outputs": [
    {
     "data": {
      "text/html": [
       "<div>\n",
       "<style scoped>\n",
       "    .dataframe tbody tr th:only-of-type {\n",
       "        vertical-align: middle;\n",
       "    }\n",
       "\n",
       "    .dataframe tbody tr th {\n",
       "        vertical-align: top;\n",
       "    }\n",
       "\n",
       "    .dataframe thead th {\n",
       "        text-align: right;\n",
       "    }\n",
       "</style>\n",
       "<table border=\"1\" class=\"dataframe\">\n",
       "  <thead>\n",
       "    <tr style=\"text-align: right;\">\n",
       "      <th>test2</th>\n",
       "      <th>1</th>\n",
       "      <th>2</th>\n",
       "      <th>3</th>\n",
       "      <th>4</th>\n",
       "      <th>5</th>\n",
       "    </tr>\n",
       "    <tr>\n",
       "      <th>test1</th>\n",
       "      <th></th>\n",
       "      <th></th>\n",
       "      <th></th>\n",
       "      <th></th>\n",
       "      <th></th>\n",
       "    </tr>\n",
       "  </thead>\n",
       "  <tbody>\n",
       "    <tr>\n",
       "      <th>1</th>\n",
       "      <td>17</td>\n",
       "      <td>22</td>\n",
       "      <td>26</td>\n",
       "      <td>13</td>\n",
       "      <td>4</td>\n",
       "    </tr>\n",
       "    <tr>\n",
       "      <th>2</th>\n",
       "      <td>6</td>\n",
       "      <td>10</td>\n",
       "      <td>7</td>\n",
       "      <td>14</td>\n",
       "      <td>15</td>\n",
       "    </tr>\n",
       "    <tr>\n",
       "      <th>3</th>\n",
       "      <td>3</td>\n",
       "      <td>13</td>\n",
       "      <td>10</td>\n",
       "      <td>10</td>\n",
       "      <td>16</td>\n",
       "    </tr>\n",
       "    <tr>\n",
       "      <th>4</th>\n",
       "      <td>6</td>\n",
       "      <td>10</td>\n",
       "      <td>13</td>\n",
       "      <td>10</td>\n",
       "      <td>16</td>\n",
       "    </tr>\n",
       "    <tr>\n",
       "      <th>5</th>\n",
       "      <td>5</td>\n",
       "      <td>3</td>\n",
       "      <td>6</td>\n",
       "      <td>6</td>\n",
       "      <td>24</td>\n",
       "    </tr>\n",
       "  </tbody>\n",
       "</table>\n",
       "</div>"
      ],
      "text/plain": [
       "test2   1   2   3   4   5\n",
       "test1                    \n",
       "1      17  22  26  13   4\n",
       "2       6  10   7  14  15\n",
       "3       3  13  10  10  16\n",
       "4       6  10  13  10  16\n",
       "5       5   3   6   6  24"
      ]
     },
     "execution_count": 276,
     "metadata": {},
     "output_type": "execute_result"
    }
   ],
   "source": [
    "cm"
   ]
  },
  {
   "cell_type": "code",
   "execution_count": 272,
   "metadata": {},
   "outputs": [],
   "source": [
    "cm=pd.crosstab(ptemp['test1'],ptemp['test2'])"
   ]
  },
  {
   "cell_type": "code",
   "execution_count": null,
   "metadata": {},
   "outputs": [],
   "source": []
  },
  {
   "cell_type": "code",
   "execution_count": 277,
   "metadata": {},
   "outputs": [],
   "source": [
    "ptemp=ptemp.reset_index()"
   ]
  },
  {
   "cell_type": "code",
   "execution_count": null,
   "metadata": {},
   "outputs": [],
   "source": []
  },
  {
   "cell_type": "code",
   "execution_count": 291,
   "metadata": {},
   "outputs": [
    {
     "data": {
      "image/png": "[encoded data removed]",
      "text/plain": [
       "<Figure size 864x288 with 1 Axes>"
      ]
     },
     "metadata": {
      "needs_background": "light"
     },
     "output_type": "display_data"
    },
    {
     "data": {
      "image/png": "[encoded data removed]",
      "text/plain": [
       "<Figure size 864x288 with 1 Axes>"
      ]
     },
     "metadata": {
      "needs_background": "light"
     },
     "output_type": "display_data"
    }
   ],
   "source": [
    "for l in ['Moores Creek Advanced Water Resource Rec', 'Alexandria Renew Enterprises']:\n",
    "    _,ax=plt.subplots(figsize=(12,4))\n",
    "    ptemp[ptemp.wwtp_name==l].plot(x='EW',y=['test1','test2'],kind='bar',ax=ax)\n",
    "    ax.set_title(l)"
   ]
  },
  {
   "cell_type": "code",
   "execution_count": 212,
   "metadata": {},
   "outputs": [
    {
     "data": {
      "text/html": [
       "<div>\n",
       "<style scoped>\n",
       "    .dataframe tbody tr th:only-of-type {\n",
       "        vertical-align: middle;\n",
       "    }\n",
       "\n",
       "    .dataframe tbody tr th {\n",
       "        vertical-align: top;\n",
       "    }\n",
       "\n",
       "    .dataframe thead th {\n",
       "        text-align: right;\n",
       "    }\n",
       "</style>\n",
       "<table border=\"1\" class=\"dataframe\">\n",
       "  <thead>\n",
       "    <tr style=\"text-align: right;\">\n",
       "      <th></th>\n",
       "      <th>EW</th>\n",
       "      <th>wwtp_name</th>\n",
       "      <th>sample_collect_date</th>\n",
       "      <th>test_result_date</th>\n",
       "      <th>viral_load</th>\n",
       "      <th>quin_levels</th>\n",
       "    </tr>\n",
       "  </thead>\n",
       "  <tbody>\n",
       "    <tr>\n",
       "      <th>3133</th>\n",
       "      <td>2023EW29</td>\n",
       "      <td>Alexandria Renew Enterprises</td>\n",
       "      <td>2023-07-17</td>\n",
       "      <td>2023-07-24</td>\n",
       "      <td>6.460000e+11</td>\n",
       "      <td>0</td>\n",
       "    </tr>\n",
       "    <tr>\n",
       "      <th>3163</th>\n",
       "      <td>2023EW29</td>\n",
       "      <td>Alexandria Renew Enterprises</td>\n",
       "      <td>2023-07-19</td>\n",
       "      <td>2023-07-25</td>\n",
       "      <td>8.050000e+11</td>\n",
       "      <td>1</td>\n",
       "    </tr>\n",
       "  </tbody>\n",
       "</table>\n",
       "</div>"
      ],
      "text/plain": [
       "            EW                     wwtp_name sample_collect_date  \\\n",
       "3133  2023EW29  Alexandria Renew Enterprises          2023-07-17   \n",
       "3163  2023EW29  Alexandria Renew Enterprises          2023-07-19   \n",
       "\n",
       "     test_result_date    viral_load  quin_levels  \n",
       "3133       2023-07-24  6.460000e+11            0  \n",
       "3163       2023-07-25  8.050000e+11            1  "
      ]
     },
     "execution_count": 212,
     "metadata": {},
     "output_type": "execute_result"
    }
   ],
   "source": [
    "qdf[(qdf.EW=='2023EW29')&(qdf.wwtp_name=='Alexandria Renew Enterprises')]"
   ]
  },
  {
   "cell_type": "code",
   "execution_count": 230,
   "metadata": {},
   "outputs": [],
   "source": [
    "mdf=pd.read_csv('/project/biocomplexity/COVID-19_commons/data/VDH_wastewater/county_mappings/District_to_WWS.csv')"
   ]
  },
  {
   "cell_type": "code",
   "execution_count": 238,
   "metadata": {},
   "outputs": [],
   "source": [
    "mdf.groupby(['District']).sum().sort_values(by='Intersect_Pop',ascending=False).to_csv('distct_pop.csv')"
   ]
  },
  {
   "cell_type": "code",
   "execution_count": null,
   "metadata": {},
   "outputs": [],
   "source": []
  },
  {
   "cell_type": "code",
   "execution_count": 35,
   "metadata": {},
   "outputs": [
    {
     "name": "stdout",
     "output_type": "stream",
     "text": [
      "-rw-rw---- 1 bh3an nssac_covid19 180633 Aug 29 11:36 /project/biocomplexity/COVID-19_commons/data/VDH_wastewater/processed_data/case/sewershed/case_agg_latest.csv\n"
     ]
    }
   ],
   "source": [
    "ls -lt /project/biocomplexity/COVID-19_commons/data/VDH_wastewater/processed_data/case/sewershed/case_agg_latest.csv"
   ]
  },
  {
   "cell_type": "code",
   "execution_count": 2,
   "metadata": {},
   "outputs": [],
   "source": [
    "wdf=pd.read_csv('/project/biocomplexity/COVID-19_commons/data/VDH_wastewater/processed_data/wastewater/sewershed/ww_agg_latest.csv')\n",
    "wdf.time_value=pd.to_datetime(wdf.time_value)\n",
    "wdf=wdf.drop(['Unnamed: 0'],axis=1)\n",
    "cdf=pd.read_csv('/project/biocomplexity/COVID-19_commons/data/VDH_wastewater/processed_data/case/sewershed/case_agg_latest.csv')\n",
    "cdf.time_value=pd.to_datetime(cdf.time_value)\n",
    "cdf=cdf.drop(['Unnamed: 0'],axis=1)"
   ]
  },
  {
   "cell_type": "code",
   "execution_count": 5,
   "metadata": {},
   "outputs": [
    {
     "name": "stdout",
     "output_type": "stream",
     "text": [
      "-rw-rw---- 1 bh3an nssac_covid19 149182 Aug 15 11:51 /project/biocomplexity/COVID-19_commons/data/VDH_wastewater/processed_data/hosp/sewershed/hosp_agg_latest.csv\n"
     ]
    }
   ],
   "source": [
    "ls -lt /project/biocomplexity/COVID-19_commons/data/VDH_wastewater/processed_data/hosp/sewershed/hosp_agg_latest.csv"
   ]
  },
  {
   "cell_type": "code",
   "execution_count": null,
   "metadata": {},
   "outputs": [],
   "source": []
  },
  {
   "cell_type": "code",
   "execution_count": 3,
   "metadata": {},
   "outputs": [],
   "source": [
    "locs=wdf.geo_value.unique()\n",
    "for l in locs:\n",
    "    wtemp=wdf[wdf.geo_value==l]\n",
    "    ctemp=cdf[cdf.geo_value==l]\n",
    "    # ctemp.loc[:,'geo_value']=ctemp['geo_value'].map({'MooresCreek':'Moores Creek'})\n",
    "    wtemp=wtemp.merge(ctemp,on=['geo_value','time_value','geo_res'])\n",
    "    wtemp=wtemp.set_index('time_value')\n",
    "    wtemp.to_csv('/project/biocomplexity/aniadiga/data_dump/waste_water/ww_cases_{}.csv'.format(l))"
   ]
  },
  {
   "cell_type": "code",
   "execution_count": 15,
   "metadata": {},
   "outputs": [],
   "source": [
    "# hdf=pd.read_csv('/project/biocomplexity/COVID-19_commons/data/VDH_wastewater/processed_data/hosp/sewershed/hosp_agg_latest.csv')"
   ]
  },
  {
   "cell_type": "code",
   "execution_count": 7,
   "metadata": {},
   "outputs": [
    {
     "data": {
      "text/html": [
       "<div>\n",
       "<style scoped>\n",
       "    .dataframe tbody tr th:only-of-type {\n",
       "        vertical-align: middle;\n",
       "    }\n",
       "\n",
       "    .dataframe tbody tr th {\n",
       "        vertical-align: top;\n",
       "    }\n",
       "\n",
       "    .dataframe thead th {\n",
       "        text-align: right;\n",
       "    }\n",
       "</style>\n",
       "<table border=\"1\" class=\"dataframe\">\n",
       "  <thead>\n",
       "    <tr style=\"text-align: right;\">\n",
       "      <th></th>\n",
       "      <th>time_value</th>\n",
       "      <th>geo_value</th>\n",
       "      <th>viral_load</th>\n",
       "      <th>geo_res</th>\n",
       "      <th>BOW_cases</th>\n",
       "    </tr>\n",
       "  </thead>\n",
       "  <tbody>\n",
       "    <tr>\n",
       "      <th>0</th>\n",
       "      <td>2021-09-12</td>\n",
       "      <td>Blacksburg</td>\n",
       "      <td>1.501905e+12</td>\n",
       "      <td>sewershed</td>\n",
       "      <td>65</td>\n",
       "    </tr>\n",
       "    <tr>\n",
       "      <th>1</th>\n",
       "      <td>2021-09-19</td>\n",
       "      <td>Blacksburg</td>\n",
       "      <td>4.597383e+11</td>\n",
       "      <td>sewershed</td>\n",
       "      <td>40</td>\n",
       "    </tr>\n",
       "    <tr>\n",
       "      <th>2</th>\n",
       "      <td>2021-09-26</td>\n",
       "      <td>Blacksburg</td>\n",
       "      <td>8.365500e+11</td>\n",
       "      <td>sewershed</td>\n",
       "      <td>43</td>\n",
       "    </tr>\n",
       "    <tr>\n",
       "      <th>3</th>\n",
       "      <td>2021-10-03</td>\n",
       "      <td>Blacksburg</td>\n",
       "      <td>4.833072e+11</td>\n",
       "      <td>sewershed</td>\n",
       "      <td>25</td>\n",
       "    </tr>\n",
       "    <tr>\n",
       "      <th>4</th>\n",
       "      <td>2021-10-10</td>\n",
       "      <td>Blacksburg</td>\n",
       "      <td>1.280766e+11</td>\n",
       "      <td>sewershed</td>\n",
       "      <td>15</td>\n",
       "    </tr>\n",
       "    <tr>\n",
       "      <th>...</th>\n",
       "      <td>...</td>\n",
       "      <td>...</td>\n",
       "      <td>...</td>\n",
       "      <td>...</td>\n",
       "      <td>...</td>\n",
       "    </tr>\n",
       "    <tr>\n",
       "      <th>98</th>\n",
       "      <td>2023-07-30</td>\n",
       "      <td>Blacksburg</td>\n",
       "      <td>4.095000e+11</td>\n",
       "      <td>sewershed</td>\n",
       "      <td>6</td>\n",
       "    </tr>\n",
       "    <tr>\n",
       "      <th>99</th>\n",
       "      <td>2023-08-06</td>\n",
       "      <td>Blacksburg</td>\n",
       "      <td>4.458000e+11</td>\n",
       "      <td>sewershed</td>\n",
       "      <td>16</td>\n",
       "    </tr>\n",
       "    <tr>\n",
       "      <th>100</th>\n",
       "      <td>2023-08-13</td>\n",
       "      <td>Blacksburg</td>\n",
       "      <td>3.397500e+11</td>\n",
       "      <td>sewershed</td>\n",
       "      <td>12</td>\n",
       "    </tr>\n",
       "    <tr>\n",
       "      <th>101</th>\n",
       "      <td>2023-08-20</td>\n",
       "      <td>Blacksburg</td>\n",
       "      <td>1.003500e+12</td>\n",
       "      <td>sewershed</td>\n",
       "      <td>8</td>\n",
       "    </tr>\n",
       "    <tr>\n",
       "      <th>102</th>\n",
       "      <td>2023-08-27</td>\n",
       "      <td>Blacksburg</td>\n",
       "      <td>3.750000e+11</td>\n",
       "      <td>sewershed</td>\n",
       "      <td>5</td>\n",
       "    </tr>\n",
       "  </tbody>\n",
       "</table>\n",
       "<p>103 rows × 5 columns</p>\n",
       "</div>"
      ],
      "text/plain": [
       "     time_value   geo_value    viral_load    geo_res  BOW_cases\n",
       "0    2021-09-12  Blacksburg  1.501905e+12  sewershed         65\n",
       "1    2021-09-19  Blacksburg  4.597383e+11  sewershed         40\n",
       "2    2021-09-26  Blacksburg  8.365500e+11  sewershed         43\n",
       "3    2021-10-03  Blacksburg  4.833072e+11  sewershed         25\n",
       "4    2021-10-10  Blacksburg  1.280766e+11  sewershed         15\n",
       "..          ...         ...           ...        ...        ...\n",
       "98   2023-07-30  Blacksburg  4.095000e+11  sewershed          6\n",
       "99   2023-08-06  Blacksburg  4.458000e+11  sewershed         16\n",
       "100  2023-08-13  Blacksburg  3.397500e+11  sewershed         12\n",
       "101  2023-08-20  Blacksburg  1.003500e+12  sewershed          8\n",
       "102  2023-08-27  Blacksburg  3.750000e+11  sewershed          5\n",
       "\n",
       "[103 rows x 5 columns]"
      ]
     },
     "execution_count": 7,
     "metadata": {},
     "output_type": "execute_result"
    }
   ],
   "source": [
    "l='Blacksburg'\n",
    "pd.read_csv('/project/biocomplexity/aniadiga/data_dump/waste_water/ww_cases_{}.csv'.format(l))"
   ]
  },
  {
   "cell_type": "code",
   "execution_count": 19,
   "metadata": {},
   "outputs": [],
   "source": [
    "mkdir /project/biocomplexity/aniadiga/data_dump/waste_water"
   ]
  },
  {
   "cell_type": "code",
   "execution_count": null,
   "metadata": {},
   "outputs": [],
   "source": []
  },
  {
   "cell_type": "code",
   "execution_count": 16,
   "metadata": {},
   "outputs": [
    {
     "data": {
      "text/plain": [
       "<matplotlib.axes._subplots.AxesSubplot at 0x7f936bf48be0>"
      ]
     },
     "execution_count": 16,
     "metadata": {},
     "output_type": "execute_result"
    },
    {
     "data": {
      "image/png": "[encoded data removed]",
      "text/plain": [
       "<Figure size 864x288 with 2 Axes>"
      ]
     },
     "metadata": {
      "needs_background": "light"
     },
     "output_type": "display_data"
    }
   ],
   "source": [
    "fig,ax=plt.subplots(figsize=(12,4))\n",
    "np.log(wtemp[['viral_load']]).plot(ax=ax)\n",
    "ax2=ax.twinx()\n",
    "wtemp[['BOW_cases']].plot(ax=ax2)"
   ]
  },
  {
   "cell_type": "code",
   "execution_count": 30,
   "metadata": {},
   "outputs": [
    {
     "data": {
      "text/plain": [
       "<matplotlib.axes._subplots.AxesSubplot at 0x7f30d57b3630>"
      ]
     },
     "execution_count": 30,
     "metadata": {},
     "output_type": "execute_result"
    },
    {
     "data": {
      "image/png": "[encoded data removed]",
      "text/plain": [
       "<Figure size 432x288 with 1 Axes>"
      ]
     },
     "metadata": {
      "needs_background": "light"
     },
     "output_type": "display_data"
    }
   ],
   "source": [
    "df[df.geo_value=='HRSD_ATCE'].plot(x='time_value',y='viral_load')"
   ]
  },
  {
   "cell_type": "code",
   "execution_count": 122,
   "metadata": {},
   "outputs": [],
   "source": [
    "hospss=pd.read_csv('/project/biocomplexity/aniadiga/work/IBS/csv/sewersheds_with_hc_and_hosp.csv')"
   ]
  },
  {
   "cell_type": "code",
   "execution_count": 142,
   "metadata": {},
   "outputs": [
    {
     "ename": "KeyError",
     "evalue": "\"None of [DatetimeIndex(['2021-09-12', '2021-09-19', '2021-09-26', '2021-10-03',\\n               '2021-10-10', '2021-10-17', '2021-10-24', '2021-10-31',\\n               '2021-11-07', '2021-11-14',\\n               ...\\n               '2023-06-25', '2023-07-02', '2023-07-09', '2023-07-16',\\n               '2023-07-23', '2023-07-30', '2023-08-06', '2023-08-13',\\n               '2023-08-20', '2023-08-27'],\\n              dtype='datetime64[ns]', name='time_value', length=103, freq=None)] are in the [columns]\"",
     "output_type": "error",
     "traceback": [
      "\u001b[0;31m---------------------------------------------------------------------------\u001b[0m",
      "\u001b[0;31mKeyError\u001b[0m                                  Traceback (most recent call last)",
      "\u001b[0;32m<ipython-input-142-b4280ecf0406>\u001b[0m in \u001b[0;36m<module>\u001b[0;34m\u001b[0m\n\u001b[0;32m----> 1\u001b[0;31m \u001b[0max\u001b[0m\u001b[0;34m=\u001b[0m\u001b[0mwtemp\u001b[0m\u001b[0;34m[\u001b[0m\u001b[0;34m[\u001b[0m\u001b[0;34m'viral_load'\u001b[0m\u001b[0;34m]\u001b[0m\u001b[0;34m]\u001b[0m\u001b[0;34m.\u001b[0m\u001b[0mplot\u001b[0m\u001b[0;34m.\u001b[0m\u001b[0mscatter\u001b[0m\u001b[0;34m(\u001b[0m\u001b[0mx\u001b[0m\u001b[0;34m=\u001b[0m\u001b[0mwtemp\u001b[0m\u001b[0;34m.\u001b[0m\u001b[0mindex\u001b[0m\u001b[0;34m,\u001b[0m\u001b[0my\u001b[0m\u001b[0;34m=\u001b[0m\u001b[0mwtemp\u001b[0m\u001b[0;34m[\u001b[0m\u001b[0;34m'viral_load'\u001b[0m\u001b[0;34m]\u001b[0m\u001b[0;34m.\u001b[0m\u001b[0mvalues\u001b[0m\u001b[0;34m)\u001b[0m\u001b[0;34m\u001b[0m\u001b[0;34m\u001b[0m\u001b[0m\n\u001b[0m\u001b[1;32m      2\u001b[0m \u001b[0mwtemp\u001b[0m\u001b[0;34m[\u001b[0m\u001b[0;34m[\u001b[0m\u001b[0;34m'viral_load'\u001b[0m\u001b[0;34m]\u001b[0m\u001b[0;34m]\u001b[0m\u001b[0;34m.\u001b[0m\u001b[0mrolling\u001b[0m\u001b[0;34m(\u001b[0m\u001b[0;36m3\u001b[0m\u001b[0;34m,\u001b[0m\u001b[0mcenter\u001b[0m\u001b[0;34m=\u001b[0m\u001b[0;32mTrue\u001b[0m\u001b[0;34m)\u001b[0m\u001b[0;34m.\u001b[0m\u001b[0mmean\u001b[0m\u001b[0;34m(\u001b[0m\u001b[0;34m)\u001b[0m\u001b[0;34m.\u001b[0m\u001b[0mplot\u001b[0m\u001b[0;34m(\u001b[0m\u001b[0max\u001b[0m\u001b[0;34m=\u001b[0m\u001b[0max\u001b[0m\u001b[0;34m)\u001b[0m\u001b[0;34m\u001b[0m\u001b[0;34m\u001b[0m\u001b[0m\n",
      "\u001b[0;32m~/miniconda3/envs/fct/lib/python3.6/site-packages/pandas/plotting/_core.py\u001b[0m in \u001b[0;36mscatter\u001b[0;34m(self, x, y, s, c, **kwargs)\u001b[0m\n\u001b[1;32m   1611\u001b[0m             ...                       colormap='viridis')\n\u001b[1;32m   1612\u001b[0m         \"\"\"\n\u001b[0;32m-> 1613\u001b[0;31m         \u001b[0;32mreturn\u001b[0m \u001b[0mself\u001b[0m\u001b[0;34m(\u001b[0m\u001b[0mkind\u001b[0m\u001b[0;34m=\u001b[0m\u001b[0;34m\"scatter\"\u001b[0m\u001b[0;34m,\u001b[0m \u001b[0mx\u001b[0m\u001b[0;34m=\u001b[0m\u001b[0mx\u001b[0m\u001b[0;34m,\u001b[0m \u001b[0my\u001b[0m\u001b[0;34m=\u001b[0m\u001b[0my\u001b[0m\u001b[0;34m,\u001b[0m \u001b[0ms\u001b[0m\u001b[0;34m=\u001b[0m\u001b[0ms\u001b[0m\u001b[0;34m,\u001b[0m \u001b[0mc\u001b[0m\u001b[0;34m=\u001b[0m\u001b[0mc\u001b[0m\u001b[0;34m,\u001b[0m \u001b[0;34m**\u001b[0m\u001b[0mkwargs\u001b[0m\u001b[0;34m)\u001b[0m\u001b[0;34m\u001b[0m\u001b[0;34m\u001b[0m\u001b[0m\n\u001b[0m\u001b[1;32m   1614\u001b[0m \u001b[0;34m\u001b[0m\u001b[0m\n\u001b[1;32m   1615\u001b[0m     \u001b[0;32mdef\u001b[0m \u001b[0mhexbin\u001b[0m\u001b[0;34m(\u001b[0m\u001b[0mself\u001b[0m\u001b[0;34m,\u001b[0m \u001b[0mx\u001b[0m\u001b[0;34m,\u001b[0m \u001b[0my\u001b[0m\u001b[0;34m,\u001b[0m \u001b[0mC\u001b[0m\u001b[0;34m=\u001b[0m\u001b[0;32mNone\u001b[0m\u001b[0;34m,\u001b[0m \u001b[0mreduce_C_function\u001b[0m\u001b[0;34m=\u001b[0m\u001b[0;32mNone\u001b[0m\u001b[0;34m,\u001b[0m \u001b[0mgridsize\u001b[0m\u001b[0;34m=\u001b[0m\u001b[0;32mNone\u001b[0m\u001b[0;34m,\u001b[0m \u001b[0;34m**\u001b[0m\u001b[0mkwargs\u001b[0m\u001b[0;34m)\u001b[0m\u001b[0;34m:\u001b[0m\u001b[0;34m\u001b[0m\u001b[0;34m\u001b[0m\u001b[0m\n",
      "\u001b[0;32m~/miniconda3/envs/fct/lib/python3.6/site-packages/pandas/plotting/_core.py\u001b[0m in \u001b[0;36m__call__\u001b[0;34m(self, *args, **kwargs)\u001b[0m\n\u001b[1;32m    892\u001b[0m         \u001b[0;32mif\u001b[0m \u001b[0mkind\u001b[0m \u001b[0;32min\u001b[0m \u001b[0mself\u001b[0m\u001b[0;34m.\u001b[0m\u001b[0m_dataframe_kinds\u001b[0m\u001b[0;34m:\u001b[0m\u001b[0;34m\u001b[0m\u001b[0;34m\u001b[0m\u001b[0m\n\u001b[1;32m    893\u001b[0m             \u001b[0;32mif\u001b[0m \u001b[0misinstance\u001b[0m\u001b[0;34m(\u001b[0m\u001b[0mdata\u001b[0m\u001b[0;34m,\u001b[0m \u001b[0mABCDataFrame\u001b[0m\u001b[0;34m)\u001b[0m\u001b[0;34m:\u001b[0m\u001b[0;34m\u001b[0m\u001b[0;34m\u001b[0m\u001b[0m\n\u001b[0;32m--> 894\u001b[0;31m                 \u001b[0;32mreturn\u001b[0m \u001b[0mplot_backend\u001b[0m\u001b[0;34m.\u001b[0m\u001b[0mplot\u001b[0m\u001b[0;34m(\u001b[0m\u001b[0mdata\u001b[0m\u001b[0;34m,\u001b[0m \u001b[0mx\u001b[0m\u001b[0;34m=\u001b[0m\u001b[0mx\u001b[0m\u001b[0;34m,\u001b[0m \u001b[0my\u001b[0m\u001b[0;34m=\u001b[0m\u001b[0my\u001b[0m\u001b[0;34m,\u001b[0m \u001b[0mkind\u001b[0m\u001b[0;34m=\u001b[0m\u001b[0mkind\u001b[0m\u001b[0;34m,\u001b[0m \u001b[0;34m**\u001b[0m\u001b[0mkwargs\u001b[0m\u001b[0;34m)\u001b[0m\u001b[0;34m\u001b[0m\u001b[0;34m\u001b[0m\u001b[0m\n\u001b[0m\u001b[1;32m    895\u001b[0m             \u001b[0;32melse\u001b[0m\u001b[0;34m:\u001b[0m\u001b[0;34m\u001b[0m\u001b[0;34m\u001b[0m\u001b[0m\n\u001b[1;32m    896\u001b[0m                 \u001b[0;32mraise\u001b[0m \u001b[0mValueError\u001b[0m\u001b[0;34m(\u001b[0m\u001b[0;34mf\"plot kind {kind} can only be used for data frames\"\u001b[0m\u001b[0;34m)\u001b[0m\u001b[0;34m\u001b[0m\u001b[0;34m\u001b[0m\u001b[0m\n",
      "\u001b[0;32m~/miniconda3/envs/fct/lib/python3.6/site-packages/pandas/plotting/_matplotlib/__init__.py\u001b[0m in \u001b[0;36mplot\u001b[0;34m(data, kind, **kwargs)\u001b[0m\n\u001b[1;32m     59\u001b[0m             \u001b[0mkwargs\u001b[0m\u001b[0;34m[\u001b[0m\u001b[0;34m\"ax\"\u001b[0m\u001b[0;34m]\u001b[0m \u001b[0;34m=\u001b[0m \u001b[0mgetattr\u001b[0m\u001b[0;34m(\u001b[0m\u001b[0max\u001b[0m\u001b[0;34m,\u001b[0m \u001b[0;34m\"left_ax\"\u001b[0m\u001b[0;34m,\u001b[0m \u001b[0max\u001b[0m\u001b[0;34m)\u001b[0m\u001b[0;34m\u001b[0m\u001b[0;34m\u001b[0m\u001b[0m\n\u001b[1;32m     60\u001b[0m     \u001b[0mplot_obj\u001b[0m \u001b[0;34m=\u001b[0m \u001b[0mPLOT_CLASSES\u001b[0m\u001b[0;34m[\u001b[0m\u001b[0mkind\u001b[0m\u001b[0;34m]\u001b[0m\u001b[0;34m(\u001b[0m\u001b[0mdata\u001b[0m\u001b[0;34m,\u001b[0m \u001b[0;34m**\u001b[0m\u001b[0mkwargs\u001b[0m\u001b[0;34m)\u001b[0m\u001b[0;34m\u001b[0m\u001b[0;34m\u001b[0m\u001b[0m\n\u001b[0;32m---> 61\u001b[0;31m     \u001b[0mplot_obj\u001b[0m\u001b[0;34m.\u001b[0m\u001b[0mgenerate\u001b[0m\u001b[0;34m(\u001b[0m\u001b[0;34m)\u001b[0m\u001b[0;34m\u001b[0m\u001b[0;34m\u001b[0m\u001b[0m\n\u001b[0m\u001b[1;32m     62\u001b[0m     \u001b[0mplot_obj\u001b[0m\u001b[0;34m.\u001b[0m\u001b[0mdraw\u001b[0m\u001b[0;34m(\u001b[0m\u001b[0;34m)\u001b[0m\u001b[0;34m\u001b[0m\u001b[0;34m\u001b[0m\u001b[0m\n\u001b[1;32m     63\u001b[0m     \u001b[0;32mreturn\u001b[0m \u001b[0mplot_obj\u001b[0m\u001b[0;34m.\u001b[0m\u001b[0mresult\u001b[0m\u001b[0;34m\u001b[0m\u001b[0;34m\u001b[0m\u001b[0m\n",
      "\u001b[0;32m~/miniconda3/envs/fct/lib/python3.6/site-packages/pandas/plotting/_matplotlib/core.py\u001b[0m in \u001b[0;36mgenerate\u001b[0;34m(self)\u001b[0m\n\u001b[1;32m    269\u001b[0m         \u001b[0mself\u001b[0m\u001b[0;34m.\u001b[0m\u001b[0m_compute_plot_data\u001b[0m\u001b[0;34m(\u001b[0m\u001b[0;34m)\u001b[0m\u001b[0;34m\u001b[0m\u001b[0;34m\u001b[0m\u001b[0m\n\u001b[1;32m    270\u001b[0m         \u001b[0mself\u001b[0m\u001b[0;34m.\u001b[0m\u001b[0m_setup_subplots\u001b[0m\u001b[0;34m(\u001b[0m\u001b[0;34m)\u001b[0m\u001b[0;34m\u001b[0m\u001b[0;34m\u001b[0m\u001b[0m\n\u001b[0;32m--> 271\u001b[0;31m         \u001b[0mself\u001b[0m\u001b[0;34m.\u001b[0m\u001b[0m_make_plot\u001b[0m\u001b[0;34m(\u001b[0m\u001b[0;34m)\u001b[0m\u001b[0;34m\u001b[0m\u001b[0;34m\u001b[0m\u001b[0m\n\u001b[0m\u001b[1;32m    272\u001b[0m         \u001b[0mself\u001b[0m\u001b[0;34m.\u001b[0m\u001b[0m_add_table\u001b[0m\u001b[0;34m(\u001b[0m\u001b[0;34m)\u001b[0m\u001b[0;34m\u001b[0m\u001b[0;34m\u001b[0m\u001b[0m\n\u001b[1;32m    273\u001b[0m         \u001b[0mself\u001b[0m\u001b[0;34m.\u001b[0m\u001b[0m_make_legend\u001b[0m\u001b[0;34m(\u001b[0m\u001b[0;34m)\u001b[0m\u001b[0;34m\u001b[0m\u001b[0;34m\u001b[0m\u001b[0m\n",
      "\u001b[0;32m~/miniconda3/envs/fct/lib/python3.6/site-packages/pandas/plotting/_matplotlib/core.py\u001b[0m in \u001b[0;36m_make_plot\u001b[0;34m(self)\u001b[0m\n\u001b[1;32m   1009\u001b[0m             \u001b[0mlabel\u001b[0m \u001b[0;34m=\u001b[0m \u001b[0;32mNone\u001b[0m\u001b[0;34m\u001b[0m\u001b[0;34m\u001b[0m\u001b[0m\n\u001b[1;32m   1010\u001b[0m         scatter = ax.scatter(\n\u001b[0;32m-> 1011\u001b[0;31m             \u001b[0mdata\u001b[0m\u001b[0;34m[\u001b[0m\u001b[0mx\u001b[0m\u001b[0;34m]\u001b[0m\u001b[0;34m.\u001b[0m\u001b[0mvalues\u001b[0m\u001b[0;34m,\u001b[0m\u001b[0;34m\u001b[0m\u001b[0;34m\u001b[0m\u001b[0m\n\u001b[0m\u001b[1;32m   1012\u001b[0m             \u001b[0mdata\u001b[0m\u001b[0;34m[\u001b[0m\u001b[0my\u001b[0m\u001b[0;34m]\u001b[0m\u001b[0;34m.\u001b[0m\u001b[0mvalues\u001b[0m\u001b[0;34m,\u001b[0m\u001b[0;34m\u001b[0m\u001b[0;34m\u001b[0m\u001b[0m\n\u001b[1;32m   1013\u001b[0m             \u001b[0mc\u001b[0m\u001b[0;34m=\u001b[0m\u001b[0mc_values\u001b[0m\u001b[0;34m,\u001b[0m\u001b[0;34m\u001b[0m\u001b[0;34m\u001b[0m\u001b[0m\n",
      "\u001b[0;32m~/miniconda3/envs/fct/lib/python3.6/site-packages/pandas/core/frame.py\u001b[0m in \u001b[0;36m__getitem__\u001b[0;34m(self, key)\u001b[0m\n\u001b[1;32m   2910\u001b[0m             \u001b[0;32mif\u001b[0m \u001b[0mis_iterator\u001b[0m\u001b[0;34m(\u001b[0m\u001b[0mkey\u001b[0m\u001b[0;34m)\u001b[0m\u001b[0;34m:\u001b[0m\u001b[0;34m\u001b[0m\u001b[0;34m\u001b[0m\u001b[0m\n\u001b[1;32m   2911\u001b[0m                 \u001b[0mkey\u001b[0m \u001b[0;34m=\u001b[0m \u001b[0mlist\u001b[0m\u001b[0;34m(\u001b[0m\u001b[0mkey\u001b[0m\u001b[0;34m)\u001b[0m\u001b[0;34m\u001b[0m\u001b[0;34m\u001b[0m\u001b[0m\n\u001b[0;32m-> 2912\u001b[0;31m             \u001b[0mindexer\u001b[0m \u001b[0;34m=\u001b[0m \u001b[0mself\u001b[0m\u001b[0;34m.\u001b[0m\u001b[0mloc\u001b[0m\u001b[0;34m.\u001b[0m\u001b[0m_get_listlike_indexer\u001b[0m\u001b[0;34m(\u001b[0m\u001b[0mkey\u001b[0m\u001b[0;34m,\u001b[0m \u001b[0maxis\u001b[0m\u001b[0;34m=\u001b[0m\u001b[0;36m1\u001b[0m\u001b[0;34m,\u001b[0m \u001b[0mraise_missing\u001b[0m\u001b[0;34m=\u001b[0m\u001b[0;32mTrue\u001b[0m\u001b[0;34m)\u001b[0m\u001b[0;34m[\u001b[0m\u001b[0;36m1\u001b[0m\u001b[0;34m]\u001b[0m\u001b[0;34m\u001b[0m\u001b[0;34m\u001b[0m\u001b[0m\n\u001b[0m\u001b[1;32m   2913\u001b[0m \u001b[0;34m\u001b[0m\u001b[0m\n\u001b[1;32m   2914\u001b[0m         \u001b[0;31m# take() does not accept boolean indexers\u001b[0m\u001b[0;34m\u001b[0m\u001b[0;34m\u001b[0m\u001b[0;34m\u001b[0m\u001b[0m\n",
      "\u001b[0;32m~/miniconda3/envs/fct/lib/python3.6/site-packages/pandas/core/indexing.py\u001b[0m in \u001b[0;36m_get_listlike_indexer\u001b[0;34m(self, key, axis, raise_missing)\u001b[0m\n\u001b[1;32m   1252\u001b[0m             \u001b[0mkeyarr\u001b[0m\u001b[0;34m,\u001b[0m \u001b[0mindexer\u001b[0m\u001b[0;34m,\u001b[0m \u001b[0mnew_indexer\u001b[0m \u001b[0;34m=\u001b[0m \u001b[0max\u001b[0m\u001b[0;34m.\u001b[0m\u001b[0m_reindex_non_unique\u001b[0m\u001b[0;34m(\u001b[0m\u001b[0mkeyarr\u001b[0m\u001b[0;34m)\u001b[0m\u001b[0;34m\u001b[0m\u001b[0;34m\u001b[0m\u001b[0m\n\u001b[1;32m   1253\u001b[0m \u001b[0;34m\u001b[0m\u001b[0m\n\u001b[0;32m-> 1254\u001b[0;31m         \u001b[0mself\u001b[0m\u001b[0;34m.\u001b[0m\u001b[0m_validate_read_indexer\u001b[0m\u001b[0;34m(\u001b[0m\u001b[0mkeyarr\u001b[0m\u001b[0;34m,\u001b[0m \u001b[0mindexer\u001b[0m\u001b[0;34m,\u001b[0m \u001b[0maxis\u001b[0m\u001b[0;34m,\u001b[0m \u001b[0mraise_missing\u001b[0m\u001b[0;34m=\u001b[0m\u001b[0mraise_missing\u001b[0m\u001b[0;34m)\u001b[0m\u001b[0;34m\u001b[0m\u001b[0;34m\u001b[0m\u001b[0m\n\u001b[0m\u001b[1;32m   1255\u001b[0m         \u001b[0;32mreturn\u001b[0m \u001b[0mkeyarr\u001b[0m\u001b[0;34m,\u001b[0m \u001b[0mindexer\u001b[0m\u001b[0;34m\u001b[0m\u001b[0;34m\u001b[0m\u001b[0m\n\u001b[1;32m   1256\u001b[0m \u001b[0;34m\u001b[0m\u001b[0m\n",
      "\u001b[0;32m~/miniconda3/envs/fct/lib/python3.6/site-packages/pandas/core/indexing.py\u001b[0m in \u001b[0;36m_validate_read_indexer\u001b[0;34m(self, key, indexer, axis, raise_missing)\u001b[0m\n\u001b[1;32m   1296\u001b[0m             \u001b[0;32mif\u001b[0m \u001b[0mmissing\u001b[0m \u001b[0;34m==\u001b[0m \u001b[0mlen\u001b[0m\u001b[0;34m(\u001b[0m\u001b[0mindexer\u001b[0m\u001b[0;34m)\u001b[0m\u001b[0;34m:\u001b[0m\u001b[0;34m\u001b[0m\u001b[0;34m\u001b[0m\u001b[0m\n\u001b[1;32m   1297\u001b[0m                 \u001b[0maxis_name\u001b[0m \u001b[0;34m=\u001b[0m \u001b[0mself\u001b[0m\u001b[0;34m.\u001b[0m\u001b[0mobj\u001b[0m\u001b[0;34m.\u001b[0m\u001b[0m_get_axis_name\u001b[0m\u001b[0;34m(\u001b[0m\u001b[0maxis\u001b[0m\u001b[0;34m)\u001b[0m\u001b[0;34m\u001b[0m\u001b[0;34m\u001b[0m\u001b[0m\n\u001b[0;32m-> 1298\u001b[0;31m                 \u001b[0;32mraise\u001b[0m \u001b[0mKeyError\u001b[0m\u001b[0;34m(\u001b[0m\u001b[0;34mf\"None of [{key}] are in the [{axis_name}]\"\u001b[0m\u001b[0;34m)\u001b[0m\u001b[0;34m\u001b[0m\u001b[0;34m\u001b[0m\u001b[0m\n\u001b[0m\u001b[1;32m   1299\u001b[0m \u001b[0;34m\u001b[0m\u001b[0m\n\u001b[1;32m   1300\u001b[0m             \u001b[0;31m# We (temporarily) allow for some missing keys with .loc, except in\u001b[0m\u001b[0;34m\u001b[0m\u001b[0;34m\u001b[0m\u001b[0;34m\u001b[0m\u001b[0m\n",
      "\u001b[0;31mKeyError\u001b[0m: \"None of [DatetimeIndex(['2021-09-12', '2021-09-19', '2021-09-26', '2021-10-03',\\n               '2021-10-10', '2021-10-17', '2021-10-24', '2021-10-31',\\n               '2021-11-07', '2021-11-14',\\n               ...\\n               '2023-06-25', '2023-07-02', '2023-07-09', '2023-07-16',\\n               '2023-07-23', '2023-07-30', '2023-08-06', '2023-08-13',\\n               '2023-08-20', '2023-08-27'],\\n              dtype='datetime64[ns]', name='time_value', length=103, freq=None)] are in the [columns]\""
     ]
    },
    {
     "data": {
      "image/png": "[encoded data removed]",
      "text/plain": [
       "<Figure size 432x288 with 1 Axes>"
      ]
     },
     "metadata": {
      "needs_background": "light"
     },
     "output_type": "display_data"
    }
   ],
   "source": [
    "ax=wtemp[['viral_load']].plot.scatter(x=wtemp.index,y=wtemp['viral_load'].values)\n",
    "wtemp[['viral_load']].rolling(3,center=True).mean().plot(ax=ax)"
   ]
  },
  {
   "cell_type": "code",
   "execution_count": 143,
   "metadata": {},
   "outputs": [
    {
     "data": {
      "text/plain": [
       "DatetimeIndex(['2021-09-12', '2021-09-19', '2021-09-26', '2021-10-03',\n",
       "               '2021-10-10', '2021-10-17', '2021-10-24', '2021-10-31',\n",
       "               '2021-11-07', '2021-11-14',\n",
       "               ...\n",
       "               '2023-06-25', '2023-07-02', '2023-07-09', '2023-07-16',\n",
       "               '2023-07-23', '2023-07-30', '2023-08-06', '2023-08-13',\n",
       "               '2023-08-20', '2023-08-27'],\n",
       "              dtype='datetime64[ns]', name='time_value', length=103, freq=None)"
      ]
     },
     "execution_count": 143,
     "metadata": {},
     "output_type": "execute_result"
    }
   ],
   "source": [
    "wtemp.index"
   ]
  },
  {
   "cell_type": "code",
   "execution_count": 9,
   "metadata": {},
   "outputs": [
    {
     "name": "stderr",
     "output_type": "stream",
     "text": [
      "/home/aa5dw/miniconda3/envs/fct/lib/python3.6/site-packages/IPython/core/interactiveshell.py:3057: DtypeWarning: Columns (0,3) have mixed types.Specify dtype option on import or set low_memory=False.\n",
      "  interactivity=interactivity, compiler=compiler, result=result)\n"
     ]
    }
   ],
   "source": [
    "hfdf=pd.read_csv('/project/biocomplexity/COVID-19_commons/data/HealthData_gov/COVID-19_Reported_Patient_Impact_and_Hospital_Capacity_by_Facility.csv')"
   ]
  },
  {
   "cell_type": "code",
   "execution_count": 11,
   "metadata": {},
   "outputs": [],
   "source": [
    "hfdf=hfdf[hfdf.state=='VA']"
   ]
  },
  {
   "cell_type": "code",
   "execution_count": 14,
   "metadata": {},
   "outputs": [
    {
     "data": {
      "text/plain": [
       "Index(['hospital_pk', 'collection_week', 'state', 'ccn', 'hospital_name',\n",
       "       'address', 'city', 'zip', 'hospital_subtype', 'fips_code',\n",
       "       ...\n",
       "       'previous_day_admission_adult_covid_suspected_50',\n",
       "       'previous_day_admission_adult_covid_suspected_60',\n",
       "       'total_patients_hospitalized_confirmed_influenza_and_covid_7_day_avg',\n",
       "       'total_patients_hospitalized_confirmed_influenza_and_covid_7_day_sum',\n",
       "       'previous_week_personnel_covid_vaccinated_doses_administered_7_day',\n",
       "       'total_personnel_covid_vaccinated_doses_none_7_day',\n",
       "       'total_personnel_covid_vaccinated_doses_one_7_day',\n",
       "       'total_personnel_covid_vaccinated_doses_all_7_day',\n",
       "       'previous_week_patients_covid_vaccinated_doses_one_7_day',\n",
       "       'previous_week_patients_covid_vaccinated_doses_all_7_day'],\n",
       "      dtype='object', length=129)"
      ]
     },
     "execution_count": 14,
     "metadata": {},
     "output_type": "execute_result"
    }
   ],
   "source": [
    "hfdf[hfdf.hospital_name=='UNIVERSITY OF VIRGINIA MEDICAL CENTER'].columns"
   ]
  },
  {
   "cell_type": "code",
   "execution_count": 15,
   "metadata": {},
   "outputs": [],
   "source": [
    "hdf=pd.read_csv('/project/biocomplexity/COVID-19_commons/data/COVIDCast/dsew-cpr_confirmed_admissions_covid_1d_7dav_county.csv')"
   ]
  },
  {
   "cell_type": "code",
   "execution_count": 19,
   "metadata": {},
   "outputs": [],
   "source": [
    "temp=hdf[hdf.geo_value==51003]"
   ]
  },
  {
   "cell_type": "code",
   "execution_count": 22,
   "metadata": {},
   "outputs": [
    {
     "name": "stderr",
     "output_type": "stream",
     "text": [
      "/home/aa5dw/miniconda3/envs/fct/lib/python3.6/site-packages/pandas/core/indexing.py:1743: SettingWithCopyWarning: \n",
      "A value is trying to be set on a copy of a slice from a DataFrame.\n",
      "Try using .loc[row_indexer,col_indexer] = value instead\n",
      "\n",
      "See the caveats in the documentation: https://pandas.pydata.org/pandas-docs/stable/user_guide/indexing.html#returning-a-view-versus-a-copy\n",
      "  isetter(ilocs[0], value)\n"
     ]
    }
   ],
   "source": [
    "temp.loc[:,'time_value']=pd.to_datetime(temp.time_value)"
   ]
  },
  {
   "cell_type": "code",
   "execution_count": null,
   "metadata": {},
   "outputs": [],
   "source": []
  },
  {
   "cell_type": "code",
   "execution_count": null,
   "metadata": {},
   "outputs": [],
   "source": []
  }
 ],
 "metadata": {
  "kernelspec": {
   "display_name": "Python [conda env:fct]",
   "language": "python",
   "name": "conda-env-fct-py"
  },
  "language_info": {
   "codemirror_mode": {
    "name": "ipython",
    "version": 3
   },
   "file_extension": ".py",
   "mimetype": "text/x-python",
   "name": "python",
   "nbconvert_exporter": "python",
   "pygments_lexer": "ipython3",
   "version": "3.6.8"
  }
 },
 "nbformat": 4,
 "nbformat_minor": 4
}
