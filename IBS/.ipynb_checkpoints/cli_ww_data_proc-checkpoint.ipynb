{
 "cells": [
  {
   "cell_type": "code",
   "execution_count": null,
   "metadata": {},
   "outputs": [],
   "source": [
    "import pandas as pd\n",
    "from matplotlib import pyplot as plt\n",
    "from matplotlib import pyplot as plt, dates as mdates\n",
    "\n",
    "from scipy.stats import pearsonr as pcr\n",
    "from scipy.stats import spearmanr as spr\n",
    "\n",
    "import seaborn as sns\n",
    "import numpy as np\n",
    "import matplotlib.colors as cm\n",
    "import datetime\n",
    "from datetime import timedelta\n",
    "from tqdm import tqdm_notebook as tqdm\n",
    "%matplotlib inline\n",
    "%config Completer.use_jedi = False\n",
    "import epiweeks as epi\n",
    "import os, sys"
   ]
  },
  {
   "cell_type": "markdown",
   "metadata": {},
   "source": [
    "### proc CLI data"
   ]
  },
  {
   "cell_type": "code",
   "execution_count": 2,
   "metadata": {},
   "outputs": [],
   "source": [
    "def epi_st_date(dt):\n",
    "    tempdt=epi.Week.fromdate(pd.to_datetime(dt)).startdate().strftime('%Y-%m-%d')\n",
    "    return tempdt"
   ]
  },
  {
   "cell_type": "code",
   "execution_count": 3,
   "metadata": {},
   "outputs": [],
   "source": [
    "cli_hd = pd.read_csv('/project/biocomplexity/COVID-19_commons/data/VDH_public/VDH-COVID-19-PublicUseDataset-CLI_By-HealthDistrict.csv',parse_dates=['report_date','week_end_date'])\n",
    "cli_hr = pd.read_csv('/project/biocomplexity/COVID-19_commons/data/VDH_public/VDH-COVID-19-PublicUseDataset-CLI_By-HealthRegion.csv',parse_dates=['report_date','week_end_date'])\n",
    "\n",
    "hd2hr = cli_hd[(cli_hd.geography_type!='State')][['geography_name','vdh_health_region']].drop_duplicates().reset_index(drop=True).rename({'geography_name':'vdh_health_district'},axis=1).\\\n",
    "        set_index('vdh_health_district')['vdh_health_region'].to_dict()"
   ]
  },
  {
   "cell_type": "code",
   "execution_count": 4,
   "metadata": {},
   "outputs": [],
   "source": [
    "# mask=(cli_hd.geography_name=='Alexandria')&(cli_hd.facility_type=='Urgent Care')\n",
    "# cli_hd[mask].plot(x='week_end_date',y='count_of_cli_visits')\n",
    "# cli_hd[mask].plot(x='week_end_date',y='percent_of_cli_visits')\n"
   ]
  },
  {
   "cell_type": "code",
   "execution_count": 5,
   "metadata": {},
   "outputs": [
    {
     "data": {
      "text/html": [
       "<div>\n",
       "<style scoped>\n",
       "    .dataframe tbody tr th:only-of-type {\n",
       "        vertical-align: middle;\n",
       "    }\n",
       "\n",
       "    .dataframe tbody tr th {\n",
       "        vertical-align: top;\n",
       "    }\n",
       "\n",
       "    .dataframe thead th {\n",
       "        text-align: right;\n",
       "    }\n",
       "</style>\n",
       "<table border=\"1\" class=\"dataframe\">\n",
       "  <thead>\n",
       "    <tr style=\"text-align: right;\">\n",
       "      <th></th>\n",
       "      <th>report_date</th>\n",
       "      <th>week_end_date</th>\n",
       "      <th>geography_type</th>\n",
       "      <th>geography_name</th>\n",
       "      <th>vdh_health_region</th>\n",
       "      <th>facility_type</th>\n",
       "      <th>count_of_cli_visits</th>\n",
       "      <th>percent_of_cli_visits</th>\n",
       "    </tr>\n",
       "  </thead>\n",
       "  <tbody>\n",
       "    <tr>\n",
       "      <th>159</th>\n",
       "      <td>2023-04-18</td>\n",
       "      <td>2023-03-25</td>\n",
       "      <td>Health District</td>\n",
       "      <td>Alexandria</td>\n",
       "      <td>Northern Region</td>\n",
       "      <td>Emergency Department</td>\n",
       "      <td>40</td>\n",
       "      <td>5</td>\n",
       "    </tr>\n",
       "    <tr>\n",
       "      <th>322</th>\n",
       "      <td>2023-04-18</td>\n",
       "      <td>2023-03-25</td>\n",
       "      <td>Health District</td>\n",
       "      <td>Alexandria</td>\n",
       "      <td>Northern Region</td>\n",
       "      <td>Urgent Care</td>\n",
       "      <td>21</td>\n",
       "      <td>11</td>\n",
       "    </tr>\n",
       "  </tbody>\n",
       "</table>\n",
       "</div>"
      ],
      "text/plain": [
       "    report_date week_end_date   geography_type geography_name  \\\n",
       "159  2023-04-18    2023-03-25  Health District     Alexandria   \n",
       "322  2023-04-18    2023-03-25  Health District     Alexandria   \n",
       "\n",
       "    vdh_health_region         facility_type  count_of_cli_visits  \\\n",
       "159   Northern Region  Emergency Department                   40   \n",
       "322   Northern Region           Urgent Care                   21   \n",
       "\n",
       "     percent_of_cli_visits  \n",
       "159                      5  \n",
       "322                     11  "
      ]
     },
     "execution_count": 5,
     "metadata": {},
     "output_type": "execute_result"
    }
   ],
   "source": [
    "# cli_hd.groupby(['week_end_date','geography_type'])\n",
    "cli_hd[(cli_hd.geography_name=='Alexandria')&(cli_hd.week_end_date=='2023-03-25')]"
   ]
  },
  {
   "cell_type": "code",
   "execution_count": 6,
   "metadata": {},
   "outputs": [],
   "source": [
    "# cli_hd.loc[:,'total_cli']=\n",
    "temp=cli_hd.groupby(['week_end_date','geography_type','geography_name','vdh_health_region'],as_index=None).sum()#['count_of_cli_visits']"
   ]
  },
  {
   "cell_type": "code",
   "execution_count": 7,
   "metadata": {},
   "outputs": [],
   "source": [
    "temp.loc[:,'facility_type']='both'"
   ]
  },
  {
   "cell_type": "code",
   "execution_count": 8,
   "metadata": {},
   "outputs": [],
   "source": [
    "cli_hd=cli_hd.append(temp)"
   ]
  },
  {
   "cell_type": "code",
   "execution_count": 9,
   "metadata": {},
   "outputs": [],
   "source": [
    "cli_hd.loc[:,'st_date']=cli_hd.week_end_date.apply(lambda x: epi_st_date(x))"
   ]
  },
  {
   "cell_type": "code",
   "execution_count": 10,
   "metadata": {},
   "outputs": [],
   "source": [
    "cli_hd.to_csv('csv/VDH_CLI_both.csv',index=None)"
   ]
  },
  {
   "cell_type": "markdown",
   "metadata": {},
   "source": [
    "### proc wastewater map"
   ]
  },
  {
   "cell_type": "markdown",
   "metadata": {},
   "source": [
    "##### Sewershed to VA Districts "
   ]
  },
  {
   "cell_type": "code",
   "execution_count": 11,
   "metadata": {},
   "outputs": [],
   "source": [
    "wws_map=pd.read_csv('/project/biocomplexity/COVID-19_commons/data/VDH_wastewater/county_mappings/WWS_to_District.csv')\n",
    "wws_key = pd.read_csv('/project/biocomplexity/COVID-19_commons/data/VDH_wastewater/county_mappings/sewershed_WWS_mapping.csv')\n",
    "wws_map=wws_map.merge(wws_key)\n",
    "wws_map.loc[:,'Dist_wws_frac']=wws_map['Intersect_Pop']/wws_map.groupby('District')['Intersect_Pop'].transform('sum')\n",
    "wws_map.to_csv('/project/biocomplexity/COVID-19_commons/data/VDH_wastewater/county_mappings/WWS_to_District_for_agg.csv',index=None)"
   ]
  },
  {
   "cell_type": "code",
   "execution_count": 12,
   "metadata": {},
   "outputs": [],
   "source": [
    "st_wws_map=pd.read_csv('/project/biocomplexity/COVID-19_commons/data/VDH_wastewater/county_mappings/WWS_to_District.csv')\n",
    "wws_key = pd.read_csv('/project/biocomplexity/COVID-19_commons/data/VDH_wastewater/county_mappings/sewershed_WWS_mapping.csv')\n",
    "st_wws_map=st_wws_map.merge(wws_key)\n",
    "st_wws_map=(wws_map.groupby('Sewershed')[['Intersect_Pop']].sum()/wws_map['Intersect_Pop'].sum()).reset_index()\n",
    "st_wws_map=st_wws_map.rename(columns={'Intersect_Pop':'state_wws_frac'})\n",
    "st_wws_map.to_csv('/project/biocomplexity/COVID-19_commons/data/VDH_wastewater/county_mappings/WWS_to_state_for_agg.csv',index=None)"
   ]
  },
  {
   "cell_type": "markdown",
   "metadata": {},
   "source": [
    "### aggregate wastewater to district"
   ]
  },
  {
   "cell_type": "code",
   "execution_count": 43,
   "metadata": {},
   "outputs": [],
   "source": [
    "ww=pd.read_csv('/project/biocomplexity/COVID-19_commons/data/VDH_wastewater/trimmed_data_weekly_cc.csv')\n",
    "ww=ww.merge(wws_map.rename(columns={'Sewershed':'sewershed'}))\n",
    "ww['frac_ww']=ww['ww']*ww['Dist_wws_frac']\n",
    "agg_ww=ww.groupby(['Attribute','District'],as_index=None).sum()\n",
    "agg_ww.Attribute=pd.to_datetime(agg_ww.Attribute)\n",
    "agg_ww.loc[:,'st_date']=agg_ww.Attribute.apply(lambda x: epi_st_date(x))\n",
    "agg_ww.loc[:,'dow']=agg_ww.Attribute.dt.dayofweek\n",
    "agg_ww=agg_ww.merge(agg_ww.groupby(['District','st_date'],as_index=None)['dow'].min())\n",
    "# agg_ww=agg_ww.rename(columns={'frac_ww':'VL'})\n",
    "# agg_ww[['st_date','VL']].to_csv('./input/district_viral_load.csv',index=None)\n"
   ]
  },
  {
   "cell_type": "markdown",
   "metadata": {},
   "source": [
    "### aggregate wastewater to state"
   ]
  },
  {
   "cell_type": "code",
   "execution_count": 38,
   "metadata": {},
   "outputs": [],
   "source": [
    "ww=pd.read_csv('/project/biocomplexity/COVID-19_commons/data/VDH_wastewater/trimmed_data_weekly_cc.csv')\n",
    "ww=ww.merge(st_wws_map.rename(columns={'Sewershed':'sewershed'}))\n",
    "ww['frac_ww']=ww['ww']*ww['state_wws_frac']\n",
    "ww.Attribute=pd.to_datetime(ww.Attribute)\n",
    "ww.loc[:,'st_date']=ww.Attribute.apply(lambda x: epi_st_date(x))\n",
    "ww.loc[:,'dow']=ww.Attribute.dt.dayofweek\n",
    "ww=ww.merge(ww.groupby(['sewershed','st_date'],as_index=None)['dow'].min())\n",
    "agg_ww=ww.groupby('st_date',as_index=False).sum()\n",
    "agg_ww=agg_ww.rename(columns={'frac_ww':'VL'})\n",
    "agg_ww[['st_date','VL']].to_csv('./input/state_viral_load.csv',index=None)\n",
    "# agg_ww=ww.groupby(['Attribute'],as_index=None).sum()\n",
    "# agg_ww.Attribute=pd.to_datetime(agg_ww.Attribute)\n",
    "# agg_ww.loc[:,'dow']=agg_ww.Attribute.dt.dayofweek"
   ]
  },
  {
   "cell_type": "code",
   "execution_count": 16,
   "metadata": {},
   "outputs": [],
   "source": [
    "cli_hd.loc[:,'st_date']=cli_hd.week_end_date.apply(lambda x: epi_st_date(x))"
   ]
  },
  {
   "cell_type": "code",
   "execution_count": 17,
   "metadata": {},
   "outputs": [
    {
     "data": {
      "text/html": [
       "<div>\n",
       "<style scoped>\n",
       "    .dataframe tbody tr th:only-of-type {\n",
       "        vertical-align: middle;\n",
       "    }\n",
       "\n",
       "    .dataframe tbody tr th {\n",
       "        vertical-align: top;\n",
       "    }\n",
       "\n",
       "    .dataframe thead th {\n",
       "        text-align: right;\n",
       "    }\n",
       "</style>\n",
       "<table border=\"1\" class=\"dataframe\">\n",
       "  <thead>\n",
       "    <tr style=\"text-align: right;\">\n",
       "      <th></th>\n",
       "      <th>count_of_cli_visits</th>\n",
       "      <th>percent_of_cli_visits</th>\n",
       "    </tr>\n",
       "    <tr>\n",
       "      <th>week_end_date</th>\n",
       "      <th></th>\n",
       "      <th></th>\n",
       "    </tr>\n",
       "  </thead>\n",
       "  <tbody>\n",
       "    <tr>\n",
       "      <th>2020-03-07</th>\n",
       "      <td>5758</td>\n",
       "      <td>404</td>\n",
       "    </tr>\n",
       "    <tr>\n",
       "      <th>2020-03-14</th>\n",
       "      <td>7063</td>\n",
       "      <td>498</td>\n",
       "    </tr>\n",
       "    <tr>\n",
       "      <th>2020-03-21</th>\n",
       "      <td>7675</td>\n",
       "      <td>624</td>\n",
       "    </tr>\n",
       "    <tr>\n",
       "      <th>2020-03-28</th>\n",
       "      <td>5769</td>\n",
       "      <td>580</td>\n",
       "    </tr>\n",
       "    <tr>\n",
       "      <th>2020-04-04</th>\n",
       "      <td>4578</td>\n",
       "      <td>516</td>\n",
       "    </tr>\n",
       "    <tr>\n",
       "      <th>...</th>\n",
       "      <td>...</td>\n",
       "      <td>...</td>\n",
       "    </tr>\n",
       "    <tr>\n",
       "      <th>2023-03-18</th>\n",
       "      <td>11382</td>\n",
       "      <td>764</td>\n",
       "    </tr>\n",
       "    <tr>\n",
       "      <th>2023-03-25</th>\n",
       "      <td>11444</td>\n",
       "      <td>759</td>\n",
       "    </tr>\n",
       "    <tr>\n",
       "      <th>2023-04-01</th>\n",
       "      <td>10257</td>\n",
       "      <td>690</td>\n",
       "    </tr>\n",
       "    <tr>\n",
       "      <th>2023-04-08</th>\n",
       "      <td>9172</td>\n",
       "      <td>638</td>\n",
       "    </tr>\n",
       "    <tr>\n",
       "      <th>2023-04-15</th>\n",
       "      <td>8199</td>\n",
       "      <td>580</td>\n",
       "    </tr>\n",
       "  </tbody>\n",
       "</table>\n",
       "<p>163 rows × 2 columns</p>\n",
       "</div>"
      ],
      "text/plain": [
       "               count_of_cli_visits  percent_of_cli_visits\n",
       "week_end_date                                            \n",
       "2020-03-07                    5758                    404\n",
       "2020-03-14                    7063                    498\n",
       "2020-03-21                    7675                    624\n",
       "2020-03-28                    5769                    580\n",
       "2020-04-04                    4578                    516\n",
       "...                            ...                    ...\n",
       "2023-03-18                   11382                    764\n",
       "2023-03-25                   11444                    759\n",
       "2023-04-01                   10257                    690\n",
       "2023-04-08                    9172                    638\n",
       "2023-04-15                    8199                    580\n",
       "\n",
       "[163 rows x 2 columns]"
      ]
     },
     "execution_count": 17,
     "metadata": {},
     "output_type": "execute_result"
    }
   ],
   "source": [
    "cli_hd[(cli_hd.geography_type=='Health District')&(cli_hd.facility_type=='both')].groupby('week_end_date').sum()"
   ]
  },
  {
   "cell_type": "code",
   "execution_count": 18,
   "metadata": {},
   "outputs": [],
   "source": [
    "st_cli=cli_hd[(cli_hd.geography_name=='Virginia')&(cli_hd.facility_type=='both')][['st_date','count_of_cli_visits']]"
   ]
  },
  {
   "cell_type": "code",
   "execution_count": 19,
   "metadata": {},
   "outputs": [],
   "source": [
    "st_cli.to_csv('./input/state_cli.csv',index=None)"
   ]
  },
  {
   "cell_type": "code",
   "execution_count": null,
   "metadata": {},
   "outputs": [],
   "source": []
  },
  {
   "cell_type": "code",
   "execution_count": null,
   "metadata": {},
   "outputs": [],
   "source": []
  },
  {
   "cell_type": "code",
   "execution_count": 20,
   "metadata": {},
   "outputs": [],
   "source": [
    "temp_cli=cli_hd[cli_hd.facility_type=='both'][['st_date','geography_name','count_of_cli_visits','facility_type']]"
   ]
  },
  {
   "cell_type": "code",
   "execution_count": 39,
   "metadata": {},
   "outputs": [
    {
     "data": {
      "text/html": [
       "<div>\n",
       "<style scoped>\n",
       "    .dataframe tbody tr th:only-of-type {\n",
       "        vertical-align: middle;\n",
       "    }\n",
       "\n",
       "    .dataframe tbody tr th {\n",
       "        vertical-align: top;\n",
       "    }\n",
       "\n",
       "    .dataframe thead th {\n",
       "        text-align: right;\n",
       "    }\n",
       "</style>\n",
       "<table border=\"1\" class=\"dataframe\">\n",
       "  <thead>\n",
       "    <tr style=\"text-align: right;\">\n",
       "      <th></th>\n",
       "      <th>st_date</th>\n",
       "      <th>cases</th>\n",
       "      <th>ww</th>\n",
       "      <th>state_wws_frac</th>\n",
       "      <th>frac_ww</th>\n",
       "      <th>dow</th>\n",
       "    </tr>\n",
       "  </thead>\n",
       "  <tbody>\n",
       "    <tr>\n",
       "      <th>0</th>\n",
       "      <td>2021-09-12</td>\n",
       "      <td>2432</td>\n",
       "      <td>2.816737e+13</td>\n",
       "      <td>0.964287</td>\n",
       "      <td>2.208926e+12</td>\n",
       "      <td>10</td>\n",
       "    </tr>\n",
       "    <tr>\n",
       "      <th>1</th>\n",
       "      <td>2021-09-19</td>\n",
       "      <td>5068</td>\n",
       "      <td>2.159111e+13</td>\n",
       "      <td>0.964287</td>\n",
       "      <td>1.571346e+12</td>\n",
       "      <td>10</td>\n",
       "    </tr>\n",
       "    <tr>\n",
       "      <th>2</th>\n",
       "      <td>2021-09-26</td>\n",
       "      <td>4224</td>\n",
       "      <td>2.118736e+13</td>\n",
       "      <td>0.964287</td>\n",
       "      <td>1.832212e+12</td>\n",
       "      <td>16</td>\n",
       "    </tr>\n",
       "    <tr>\n",
       "      <th>3</th>\n",
       "      <td>2021-10-03</td>\n",
       "      <td>2621</td>\n",
       "      <td>1.047270e+13</td>\n",
       "      <td>0.729856</td>\n",
       "      <td>7.797612e+11</td>\n",
       "      <td>7</td>\n",
       "    </tr>\n",
       "    <tr>\n",
       "      <th>4</th>\n",
       "      <td>2021-10-10</td>\n",
       "      <td>2176</td>\n",
       "      <td>1.090427e+13</td>\n",
       "      <td>0.729705</td>\n",
       "      <td>1.131438e+12</td>\n",
       "      <td>8</td>\n",
       "    </tr>\n",
       "    <tr>\n",
       "      <th>...</th>\n",
       "      <td>...</td>\n",
       "      <td>...</td>\n",
       "      <td>...</td>\n",
       "      <td>...</td>\n",
       "      <td>...</td>\n",
       "      <td>...</td>\n",
       "    </tr>\n",
       "    <tr>\n",
       "      <th>76</th>\n",
       "      <td>2023-02-26</td>\n",
       "      <td>1048</td>\n",
       "      <td>8.596875e+12</td>\n",
       "      <td>0.964287</td>\n",
       "      <td>6.585105e+11</td>\n",
       "      <td>13</td>\n",
       "    </tr>\n",
       "    <tr>\n",
       "      <th>77</th>\n",
       "      <td>2023-03-05</td>\n",
       "      <td>869</td>\n",
       "      <td>6.550860e+12</td>\n",
       "      <td>0.964287</td>\n",
       "      <td>5.313683e+11</td>\n",
       "      <td>3</td>\n",
       "    </tr>\n",
       "    <tr>\n",
       "      <th>78</th>\n",
       "      <td>2023-03-12</td>\n",
       "      <td>645</td>\n",
       "      <td>1.518103e+13</td>\n",
       "      <td>0.964287</td>\n",
       "      <td>1.442254e+12</td>\n",
       "      <td>5</td>\n",
       "    </tr>\n",
       "    <tr>\n",
       "      <th>79</th>\n",
       "      <td>2023-03-19</td>\n",
       "      <td>644</td>\n",
       "      <td>2.673235e+13</td>\n",
       "      <td>0.964287</td>\n",
       "      <td>2.954616e+12</td>\n",
       "      <td>3</td>\n",
       "    </tr>\n",
       "    <tr>\n",
       "      <th>80</th>\n",
       "      <td>2023-03-26</td>\n",
       "      <td>630</td>\n",
       "      <td>1.931905e+13</td>\n",
       "      <td>0.964287</td>\n",
       "      <td>2.031558e+12</td>\n",
       "      <td>5</td>\n",
       "    </tr>\n",
       "  </tbody>\n",
       "</table>\n",
       "<p>81 rows × 6 columns</p>\n",
       "</div>"
      ],
      "text/plain": [
       "       st_date  cases            ww  state_wws_frac       frac_ww  dow\n",
       "0   2021-09-12   2432  2.816737e+13        0.964287  2.208926e+12   10\n",
       "1   2021-09-19   5068  2.159111e+13        0.964287  1.571346e+12   10\n",
       "2   2021-09-26   4224  2.118736e+13        0.964287  1.832212e+12   16\n",
       "3   2021-10-03   2621  1.047270e+13        0.729856  7.797612e+11    7\n",
       "4   2021-10-10   2176  1.090427e+13        0.729705  1.131438e+12    8\n",
       "..         ...    ...           ...             ...           ...  ...\n",
       "76  2023-02-26   1048  8.596875e+12        0.964287  6.585105e+11   13\n",
       "77  2023-03-05    869  6.550860e+12        0.964287  5.313683e+11    3\n",
       "78  2023-03-12    645  1.518103e+13        0.964287  1.442254e+12    5\n",
       "79  2023-03-19    644  2.673235e+13        0.964287  2.954616e+12    3\n",
       "80  2023-03-26    630  1.931905e+13        0.964287  2.031558e+12    5\n",
       "\n",
       "[81 rows x 6 columns]"
      ]
     },
     "execution_count": 39,
     "metadata": {},
     "output_type": "execute_result"
    }
   ],
   "source": [
    "agg_ww"
   ]
  },
  {
   "cell_type": "code",
   "execution_count": 21,
   "metadata": {},
   "outputs": [],
   "source": [
    "temp_cli=temp_cli.rename(columns={'geography_name':'District'})"
   ]
  },
  {
   "cell_type": "code",
   "execution_count": null,
   "metadata": {},
   "outputs": [],
   "source": []
  },
  {
   "cell_type": "code",
   "execution_count": 45,
   "metadata": {},
   "outputs": [],
   "source": [
    "temp_agg=agg_ww[['st_date','District','frac_ww']]"
   ]
  },
  {
   "cell_type": "code",
   "execution_count": 47,
   "metadata": {},
   "outputs": [],
   "source": [
    "temp_agg_ww=temp_agg.merge(temp_cli)"
   ]
  },
  {
   "cell_type": "code",
   "execution_count": 128,
   "metadata": {},
   "outputs": [
    {
     "data": {
      "image/png": "[encoded data removed]",
      "text/plain": [
       "<Figure size 432x288 with 2 Axes>"
      ]
     },
     "metadata": {
      "needs_background": "light"
     },
     "output_type": "display_data"
    },
    {
     "data": {
      "image/png": "[encoded data removed]",
      "text/plain": [
       "<Figure size 432x288 with 2 Axes>"
      ]
     },
     "metadata": {
      "needs_background": "light"
     },
     "output_type": "display_data"
    },
    {
     "data": {
      "image/png": "[encoded data removed]",
      "text/plain": [
       "<Figure size 432x288 with 2 Axes>"
      ]
     },
     "metadata": {
      "needs_background": "light"
     },
     "output_type": "display_data"
    }
   ],
   "source": [
    "for loc in ['Richmond','Alexandria','Fairfax']:\n",
    "    fig,ax=plt.subplots()\n",
    "    mask=temp_agg_ww.District==loc\n",
    "    temp_agg_ww[mask].plot(x='st_date',y='frac_ww',ax=ax,label='agg_VL')\n",
    "    ax2=ax.twinx()\n",
    "    temp_agg_ww[mask].plot(x='st_date',y='count_of_cli_visits',ax=ax2,color='orange')\n",
    "    ax2.legend(loc='upper left')\n",
    "    ax.set_title(loc)"
   ]
  },
  {
   "cell_type": "code",
   "execution_count": 49,
   "metadata": {},
   "outputs": [],
   "source": [
    "temp_agg_ww.to_csv('/project/biocomplexity/COVID-19_commons/data/VDH_wastewater/trimmed_combined_data_HDCLI_aggWW.csv',index=None)"
   ]
  },
  {
   "cell_type": "code",
   "execution_count": 34,
   "metadata": {},
   "outputs": [
    {
     "data": {
      "text/html": [
       "<div>\n",
       "<style scoped>\n",
       "    .dataframe tbody tr th:only-of-type {\n",
       "        vertical-align: middle;\n",
       "    }\n",
       "\n",
       "    .dataframe tbody tr th {\n",
       "        vertical-align: top;\n",
       "    }\n",
       "\n",
       "    .dataframe thead th {\n",
       "        text-align: right;\n",
       "    }\n",
       "</style>\n",
       "<table border=\"1\" class=\"dataframe\">\n",
       "  <thead>\n",
       "    <tr style=\"text-align: right;\">\n",
       "      <th></th>\n",
       "      <th>st_date</th>\n",
       "      <th>District</th>\n",
       "      <th>frac_ww</th>\n",
       "      <th>count_of_cli_visits</th>\n",
       "      <th>facility_type</th>\n",
       "    </tr>\n",
       "  </thead>\n",
       "  <tbody>\n",
       "    <tr>\n",
       "      <th>0</th>\n",
       "      <td>2021-09-12</td>\n",
       "      <td>Central Virginia</td>\n",
       "      <td>4.320086e+12</td>\n",
       "      <td>522</td>\n",
       "      <td>both</td>\n",
       "    </tr>\n",
       "    <tr>\n",
       "      <th>1</th>\n",
       "      <td>2021-09-12</td>\n",
       "      <td>Alexandria</td>\n",
       "      <td>2.720000e+12</td>\n",
       "      <td>123</td>\n",
       "      <td>both</td>\n",
       "    </tr>\n",
       "    <tr>\n",
       "      <th>2</th>\n",
       "      <td>2021-09-12</td>\n",
       "      <td>Arlington</td>\n",
       "      <td>2.720000e+12</td>\n",
       "      <td>106</td>\n",
       "      <td>both</td>\n",
       "    </tr>\n",
       "    <tr>\n",
       "      <th>3</th>\n",
       "      <td>2021-09-12</td>\n",
       "      <td>Blue Ridge</td>\n",
       "      <td>4.780000e+11</td>\n",
       "      <td>345</td>\n",
       "      <td>both</td>\n",
       "    </tr>\n",
       "    <tr>\n",
       "      <th>4</th>\n",
       "      <td>2021-09-12</td>\n",
       "      <td>Central Shenandoah</td>\n",
       "      <td>1.480000e+12</td>\n",
       "      <td>1482</td>\n",
       "      <td>both</td>\n",
       "    </tr>\n",
       "    <tr>\n",
       "      <th>...</th>\n",
       "      <td>...</td>\n",
       "      <td>...</td>\n",
       "      <td>...</td>\n",
       "      <td>...</td>\n",
       "      <td>...</td>\n",
       "    </tr>\n",
       "    <tr>\n",
       "      <th>1888</th>\n",
       "      <td>2023-03-05</td>\n",
       "      <td>Western Tidewater</td>\n",
       "      <td>2.370000e+11</td>\n",
       "      <td>170</td>\n",
       "      <td>both</td>\n",
       "    </tr>\n",
       "    <tr>\n",
       "      <th>1889</th>\n",
       "      <td>2023-03-05</td>\n",
       "      <td>Chesterfield</td>\n",
       "      <td>4.830000e+11</td>\n",
       "      <td>677</td>\n",
       "      <td>both</td>\n",
       "    </tr>\n",
       "    <tr>\n",
       "      <th>1890</th>\n",
       "      <td>2023-03-05</td>\n",
       "      <td>Eastern Shore</td>\n",
       "      <td>2.060000e+09</td>\n",
       "      <td>36</td>\n",
       "      <td>both</td>\n",
       "    </tr>\n",
       "    <tr>\n",
       "      <th>1891</th>\n",
       "      <td>2023-03-05</td>\n",
       "      <td>Henrico</td>\n",
       "      <td>4.830000e+11</td>\n",
       "      <td>533</td>\n",
       "      <td>both</td>\n",
       "    </tr>\n",
       "    <tr>\n",
       "      <th>1892</th>\n",
       "      <td>2023-03-05</td>\n",
       "      <td>Richmond</td>\n",
       "      <td>4.830000e+11</td>\n",
       "      <td>452</td>\n",
       "      <td>both</td>\n",
       "    </tr>\n",
       "  </tbody>\n",
       "</table>\n",
       "<p>1893 rows × 5 columns</p>\n",
       "</div>"
      ],
      "text/plain": [
       "         st_date            District       frac_ww  count_of_cli_visits  \\\n",
       "0     2021-09-12    Central Virginia  4.320086e+12                  522   \n",
       "1     2021-09-12          Alexandria  2.720000e+12                  123   \n",
       "2     2021-09-12           Arlington  2.720000e+12                  106   \n",
       "3     2021-09-12          Blue Ridge  4.780000e+11                  345   \n",
       "4     2021-09-12  Central Shenandoah  1.480000e+12                 1482   \n",
       "...          ...                 ...           ...                  ...   \n",
       "1888  2023-03-05   Western Tidewater  2.370000e+11                  170   \n",
       "1889  2023-03-05        Chesterfield  4.830000e+11                  677   \n",
       "1890  2023-03-05       Eastern Shore  2.060000e+09                   36   \n",
       "1891  2023-03-05             Henrico  4.830000e+11                  533   \n",
       "1892  2023-03-05            Richmond  4.830000e+11                  452   \n",
       "\n",
       "     facility_type  \n",
       "0             both  \n",
       "1             both  \n",
       "2             both  \n",
       "3             both  \n",
       "4             both  \n",
       "...            ...  \n",
       "1888          both  \n",
       "1889          both  \n",
       "1890          both  \n",
       "1891          both  \n",
       "1892          both  \n",
       "\n",
       "[1893 rows x 5 columns]"
      ]
     },
     "execution_count": 34,
     "metadata": {},
     "output_type": "execute_result"
    }
   ],
   "source": [
    "pd.read_csv('/project/biocomplexity/COVID-19_commons/data/VDH_wastewater/trimmed_combined_data_HDCLI_aggWW_2023_03_05.csv')"
   ]
  },
  {
   "cell_type": "code",
   "execution_count": null,
   "metadata": {},
   "outputs": [],
   "source": []
  },
  {
   "cell_type": "code",
   "execution_count": 255,
   "metadata": {},
   "outputs": [],
   "source": [
    "cdf=pd.read_csv('/project/biocomplexity/COVID-19_commons/data/VDH_public/VDH-COVID-19-PublicUseDataset-Cases.csv',parse_dates=['report_date'],dtype={'fips':str})"
   ]
  },
  {
   "cell_type": "code",
   "execution_count": 256,
   "metadata": {},
   "outputs": [],
   "source": [
    "pcdf=cdf.pivot_table(index='fips',columns='report_date',values='total_cases')\n",
    "pcdf.loc['VA',:]=pcdf.diff(axis=1).fillna(0).sum()\n",
    "pcdf=pcdf.loc[['VA']].T\n",
    "pcdf=pcdf.resample('W-SAT').sum()\n",
    "pcdf.index=pcdf.index-pd.Timedelta(days=6)\n",
    "pcdf.to_csv('./input/state_cases.csv')"
   ]
  },
  {
   "cell_type": "code",
   "execution_count": 274,
   "metadata": {},
   "outputs": [],
   "source": [
    "pcdf=cdf.pivot_table(index='fips',columns='report_date',values='hospitalizations')\n",
    "# pcdf.loc['VA',:]=pcdf.diff(axis=1).fillna(0).sum()\n",
    "# pcdf=pcdf.loc[['VA']].T\n",
    "# pcdf=pcdf.resample('W-SAT').sum()\n",
    "# pcdf.index=pcdf.index-pd.Timedelta(days=6)\n",
    "# pcdf.to_csv('./input/state_cases.csv')"
   ]
  },
  {
   "cell_type": "code",
   "execution_count": 278,
   "metadata": {},
   "outputs": [],
   "source": [
    "pcdf=cdf.pivot_table(index='fips',columns='report_date',values='hospitalizations')\n",
    "pcdf.loc['VA',:]=pcdf.diff(axis=1).fillna(0).sum()\n",
    "pcdf=pcdf.loc[['VA']].T\n",
    "pcdf=pcdf.resample('W-SAT').sum()"
   ]
  },
  {
   "cell_type": "code",
   "execution_count": 291,
   "metadata": {},
   "outputs": [],
   "source": [
    "hdf=pd.read_csv('/project/biocomplexity/COVID-19_commons/cdc_forecast_ensemble/input/case_data_cleaned/hosp_weekly_filt_case_data.csv',index_col='state')"
   ]
  },
  {
   "cell_type": "code",
   "execution_count": 297,
   "metadata": {},
   "outputs": [],
   "source": [
    "hdf.loc[['51']].T.to_csv('./input/state_hosp.csv')"
   ]
  },
  {
   "cell_type": "markdown",
   "metadata": {},
   "source": [
    "### append and analyze all datasets"
   ]
  },
  {
   "cell_type": "code",
   "execution_count": 307,
   "metadata": {},
   "outputs": [
    {
     "data": {
      "text/html": [
       "<div>\n",
       "<style scoped>\n",
       "    .dataframe tbody tr th:only-of-type {\n",
       "        vertical-align: middle;\n",
       "    }\n",
       "\n",
       "    .dataframe tbody tr th {\n",
       "        vertical-align: top;\n",
       "    }\n",
       "\n",
       "    .dataframe thead th {\n",
       "        text-align: right;\n",
       "    }\n",
       "</style>\n",
       "<table border=\"1\" class=\"dataframe\">\n",
       "  <thead>\n",
       "    <tr style=\"text-align: right;\">\n",
       "      <th></th>\n",
       "      <th>report_date</th>\n",
       "      <th>VA</th>\n",
       "    </tr>\n",
       "  </thead>\n",
       "  <tbody>\n",
       "    <tr>\n",
       "      <th>0</th>\n",
       "      <td>2020-03-15</td>\n",
       "      <td>85.0</td>\n",
       "    </tr>\n",
       "    <tr>\n",
       "      <th>1</th>\n",
       "      <td>2020-03-22</td>\n",
       "      <td>587.0</td>\n",
       "    </tr>\n",
       "    <tr>\n",
       "      <th>2</th>\n",
       "      <td>2020-03-29</td>\n",
       "      <td>1668.0</td>\n",
       "    </tr>\n",
       "    <tr>\n",
       "      <th>3</th>\n",
       "      <td>2020-04-05</td>\n",
       "      <td>2670.0</td>\n",
       "    </tr>\n",
       "    <tr>\n",
       "      <th>4</th>\n",
       "      <td>2020-04-12</td>\n",
       "      <td>2976.0</td>\n",
       "    </tr>\n",
       "    <tr>\n",
       "      <th>...</th>\n",
       "      <td>...</td>\n",
       "      <td>...</td>\n",
       "    </tr>\n",
       "    <tr>\n",
       "      <th>155</th>\n",
       "      <td>2023-03-05</td>\n",
       "      <td>3111.0</td>\n",
       "    </tr>\n",
       "    <tr>\n",
       "      <th>156</th>\n",
       "      <td>2023-03-12</td>\n",
       "      <td>2697.0</td>\n",
       "    </tr>\n",
       "    <tr>\n",
       "      <th>157</th>\n",
       "      <td>2023-03-19</td>\n",
       "      <td>2812.0</td>\n",
       "    </tr>\n",
       "    <tr>\n",
       "      <th>158</th>\n",
       "      <td>2023-03-26</td>\n",
       "      <td>2509.0</td>\n",
       "    </tr>\n",
       "    <tr>\n",
       "      <th>159</th>\n",
       "      <td>2023-04-02</td>\n",
       "      <td>765.0</td>\n",
       "    </tr>\n",
       "  </tbody>\n",
       "</table>\n",
       "<p>160 rows × 2 columns</p>\n",
       "</div>"
      ],
      "text/plain": [
       "    report_date      VA\n",
       "0    2020-03-15    85.0\n",
       "1    2020-03-22   587.0\n",
       "2    2020-03-29  1668.0\n",
       "3    2020-04-05  2670.0\n",
       "4    2020-04-12  2976.0\n",
       "..          ...     ...\n",
       "155  2023-03-05  3111.0\n",
       "156  2023-03-12  2697.0\n",
       "157  2023-03-19  2812.0\n",
       "158  2023-03-26  2509.0\n",
       "159  2023-04-02   765.0\n",
       "\n",
       "[160 rows x 2 columns]"
      ]
     },
     "execution_count": 307,
     "metadata": {},
     "output_type": "execute_result"
    }
   ],
   "source": [
    "shdf=pd.read_csv('./input/state_hosp.csv').rename(columns={'Unnamed: 0':'date','51':'hosp'})\n",
    "scdf=pd.read_csv('./input/state_cases.csv').rename(columns={'report_date':'date','VA':'cases'})\n",
    "scldf=pd.read_csv('./input/state_cli.csv').rename(columns={'st_date':'date','count_of_cli_visits':'CLI'})\n",
    "sww=pd.read_csv('./input/state_viral_load.csv').rename(columns={'st_date':'date'})"
   ]
  },
  {
   "cell_type": "code",
   "execution_count": null,
   "metadata": {},
   "outputs": [],
   "source": []
  }
 ],
 "metadata": {
  "kernelspec": {
   "display_name": "Python [conda env:fct]",
   "language": "python",
   "name": "conda-env-fct-py"
  },
  "language_info": {
   "codemirror_mode": {
    "name": "ipython",
    "version": 3
   },
   "file_extension": ".py",
   "mimetype": "text/x-python",
   "name": "python",
   "nbconvert_exporter": "python",
   "pygments_lexer": "ipython3",
   "version": "3.6.8"
  }
 },
 "nbformat": 4,
 "nbformat_minor": 4
}
