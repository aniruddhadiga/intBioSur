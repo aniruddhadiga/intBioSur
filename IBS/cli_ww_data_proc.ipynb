{
 "cells": [
  {
   "cell_type": "code",
   "execution_count": 1,
   "metadata": {},
   "outputs": [],
   "source": [
    "import pandas as pd\n",
    "import numpy as np\n",
    "import epiweeks as epi\n",
    "import os, sys\n",
    "%config Completer.use_jedi = False\n"
   ]
  },
  {
   "cell_type": "markdown",
   "metadata": {},
   "source": [
    "### proc CLI data"
   ]
  },
  {
   "cell_type": "code",
   "execution_count": 2,
   "metadata": {},
   "outputs": [],
   "source": [
    "def epi_st_date(dt):\n",
    "    tempdt=epi.Week.fromdate(pd.to_datetime(dt)).startdate().strftime('%Y-%m-%d')\n",
    "    return tempdt"
   ]
  },
  {
   "cell_type": "code",
   "execution_count": 3,
   "metadata": {},
   "outputs": [],
   "source": [
    "cli_hd = pd.read_csv('/project/biocomplexity/COVID-19_commons/data/VDH_public/VDH-COVID-19-PublicUseDataset-CLI_By-HealthDistrict.csv',parse_dates=['report_date','week_end_date'])\n",
    "cli_hr = pd.read_csv('/project/biocomplexity/COVID-19_commons/data/VDH_public/VDH-COVID-19-PublicUseDataset-CLI_By-HealthRegion.csv',parse_dates=['report_date','week_end_date'])\n",
    "\n",
    "hd2hr = cli_hd[(cli_hd.geography_type!='State')][['geography_name','vdh_health_region']].drop_duplicates().reset_index(drop=True).rename({'geography_name':'vdh_health_district'},axis=1).\\\n",
    "        set_index('vdh_health_district')['vdh_health_region'].to_dict()"
   ]
  },
  {
   "cell_type": "markdown",
   "metadata": {},
   "source": [
    "### district CLI"
   ]
  },
  {
   "cell_type": "code",
   "execution_count": 16,
   "metadata": {},
   "outputs": [],
   "source": [
    "# add ED and UC\n",
    "temp=cli_hd.groupby(['week_end_date','geography_type','geography_name','vdh_health_region'],as_index=None).sum()#['count_of_cli_visits']\n",
    "temp.loc[:,'facility_type']='both'\n",
    "cli_hd=cli_hd.append(temp)"
   ]
  },
  {
   "cell_type": "code",
   "execution_count": 24,
   "metadata": {},
   "outputs": [],
   "source": [
    "cli_hd.loc[:,'st_date']=cli_hd.week_end_date.apply(lambda x: epi_st_date(x)) # get week start date (Sunday)"
   ]
  },
  {
   "cell_type": "markdown",
   "metadata": {},
   "source": [
    "### proc wastewater map"
   ]
  },
  {
   "cell_type": "markdown",
   "metadata": {},
   "source": [
    "##### Sewershed to VA Districts "
   ]
  },
  {
   "cell_type": "code",
   "execution_count": 12,
   "metadata": {},
   "outputs": [],
   "source": [
    "wws_map=pd.read_csv('/project/biocomplexity/COVID-19_commons/data/VDH_wastewater/county_mappings/WWS_to_District.csv')\n",
    "wws_key = pd.read_csv('/project/biocomplexity/COVID-19_commons/data/VDH_wastewater/county_mappings/sewershed_WWS_mapping.csv')\n",
    "wws_map=wws_map.merge(wws_key)\n",
    "wws_map.loc[:,'Dist_wws_frac']=wws_map['Intersect_Pop']/wws_map.groupby('District')['Intersect_Pop'].transform('sum')\n",
    "wws_map.to_csv('/project/biocomplexity/COVID-19_commons/data/VDH_wastewater/county_mappings/WWS_to_District_for_agg.csv',index=None)"
   ]
  },
  {
   "cell_type": "code",
   "execution_count": 13,
   "metadata": {},
   "outputs": [],
   "source": [
    "st_wws_map=pd.read_csv('/project/biocomplexity/COVID-19_commons/data/VDH_wastewater/county_mappings/WWS_to_District.csv')\n",
    "wws_key = pd.read_csv('/project/biocomplexity/COVID-19_commons/data/VDH_wastewater/county_mappings/sewershed_WWS_mapping.csv')\n",
    "st_wws_map=st_wws_map.merge(wws_key)\n",
    "st_wws_map=(wws_map.groupby('Sewershed')[['Intersect_Pop']].sum()/wws_map['Intersect_Pop'].sum()).reset_index()\n",
    "st_wws_map=st_wws_map.rename(columns={'Intersect_Pop':'state_wws_frac'})\n",
    "st_wws_map.to_csv('/project/biocomplexity/COVID-19_commons/data/VDH_wastewater/county_mappings/WWS_to_state_for_agg.csv',index=None)"
   ]
  },
  {
   "cell_type": "markdown",
   "metadata": {},
   "source": [
    "### aggregate wastewater to district"
   ]
  },
  {
   "cell_type": "code",
   "execution_count": 41,
   "metadata": {},
   "outputs": [],
   "source": [
    "ww=pd.read_csv('/project/biocomplexity/COVID-19_commons/data/VDH_wastewater/trimmed_data_weekly_cc.csv')# replace with your fav ww file\n",
    "ww=ww.merge(wws_map.rename(columns={'Sewershed':'sewershed'}))\n",
    "ww['frac_ww']=ww['ww']*ww['Dist_wws_frac']\n",
    "agg_ww=ww.groupby(['Attribute','District'],as_index=None).sum()\n",
    "agg_ww.Attribute=pd.to_datetime(agg_ww.Attribute)\n",
    "agg_ww.loc[:,'st_date']=agg_ww.Attribute.apply(lambda x: epi_st_date(x))\n",
    "agg_ww.loc[:,'dow']=agg_ww.Attribute.dt.dayofweek\n",
    "agg_ww=agg_ww.merge(agg_ww.groupby(['District','st_date'],as_index=None)['dow'].min())\n",
    "agg_ww=agg_ww.rename(columns={'frac_ww':'VL'})\n"
   ]
  },
  {
   "cell_type": "markdown",
   "metadata": {},
   "source": [
    "##### merge district level CLI and WW"
   ]
  },
  {
   "cell_type": "code",
   "execution_count": 42,
   "metadata": {},
   "outputs": [],
   "source": [
    "temp_agg=agg_ww[['st_date','District','VL']]\n",
    "temp_cli=cli_hd[(cli_hd.facility_type=='both')&(cli_hd.geography_type=='Health District')][['st_date','geography_name','count_of_cli_visits','facility_type']]\n",
    "temp_cli=temp_cli.rename(columns={'geography_name':'District', 'facility_type':'cli_facility_type'})\n",
    "temp_agg_ww=temp_agg.merge(temp_cli)"
   ]
  },
  {
   "cell_type": "markdown",
   "metadata": {},
   "source": [
    "### aggregate wastewater to state"
   ]
  },
  {
   "cell_type": "code",
   "execution_count": 50,
   "metadata": {},
   "outputs": [],
   "source": [
    "ww=pd.read_csv('/project/biocomplexity/COVID-19_commons/data/VDH_wastewater/trimmed_data_weekly_cc.csv')# replace with your fav ww file\n",
    "ww=ww.merge(st_wws_map.rename(columns={'Sewershed':'sewershed'}))\n",
    "ww['frac_ww']=ww['ww']*ww['state_wws_frac']\n",
    "ww.Attribute=pd.to_datetime(ww.Attribute)\n",
    "ww.loc[:,'st_date']=ww.Attribute.apply(lambda x: epi_st_date(x))\n",
    "ww.loc[:,'dow']=ww.Attribute.dt.dayofweek\n",
    "ww=ww.merge(ww.groupby(['sewershed','st_date'],as_index=None)['dow'].min())\n",
    "agg_ww=ww.groupby('st_date',as_index=False).sum()\n",
    "agg_ww=agg_ww.rename(columns={'frac_ww':'VL'})\n",
    "# agg_ww[['st_date','VL']].to_csv('./input/state_viral_load.csv',index=None)\n",
    "# agg_ww=ww.groupby(['Attribute'],as_index=None).sum()\n",
    "# agg_ww.Attribute=pd.to_datetime(agg_ww.Attribute)\n",
    "# agg_ww.loc[:,'dow']=agg_ww.Attribute.dt.dayofweek"
   ]
  },
  {
   "cell_type": "markdown",
   "metadata": {},
   "source": [
    "##### merge state level CLI and WW"
   ]
  },
  {
   "cell_type": "code",
   "execution_count": 52,
   "metadata": {},
   "outputs": [],
   "source": [
    "temp_agg=agg_ww[['st_date','VL']]\n",
    "st_cli=cli_hd[(cli_hd.geography_name=='Virginia')&(cli_hd.facility_type=='both')][['st_date','count_of_cli_visits']]\n",
    "temp_agg_ww=temp_agg.merge(st_cli)"
   ]
  }
 ],
 "metadata": {
  "kernelspec": {
   "display_name": "Python [conda env:fct]",
   "language": "python",
   "name": "conda-env-fct-py"
  },
  "language_info": {
   "codemirror_mode": {
    "name": "ipython",
    "version": 3
   },
   "file_extension": ".py",
   "mimetype": "text/x-python",
   "name": "python",
   "nbconvert_exporter": "python",
   "pygments_lexer": "ipython3",
   "version": "3.6.8"
  }
 },
 "nbformat": 4,
 "nbformat_minor": 4
}
