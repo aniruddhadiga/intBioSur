{
 "cells": [
  {
   "cell_type": "code",
   "execution_count": 1,
   "metadata": {},
   "outputs": [],
   "source": [
    "import pandas as pd\n",
    "from matplotlib import pyplot as plt"
   ]
  },
  {
   "cell_type": "code",
   "execution_count": 2,
   "metadata": {},
   "outputs": [],
   "source": [
    "cases = pd.read_csv(\"/project/biocomplexity/COVID-19_commons/data/opioids_url/Sewershed_Case_Counts.csv\",parse_dates=['event_date'])\n",
    "cdf=cases.pivot(index='sewershed',columns='event_date',values='count')\n",
    "cdf.columns=pd.to_datetime(cdf.columns)\n",
    "wcdf=cdf.resample('W-SAT',axis=1).sum()\n",
    "wcdf.columns=wcdf.columns-pd.Timedelta(days=6)\n",
    "wcdf=wcdf.melt(ignore_index=False,var_name='EW_stdate',value_name='cases').reset_index()"
   ]
  },
  {
   "cell_type": "code",
   "execution_count": 5,
   "metadata": {},
   "outputs": [],
   "source": [
    "data=wcdf[wcdf.sewershed=='ARenew']"
   ]
  },
  {
   "cell_type": "code",
   "execution_count": 7,
   "metadata": {},
   "outputs": [],
   "source": [
    "data=data.set_index('EW_stdate')"
   ]
  },
  {
   "cell_type": "code",
   "execution_count": 11,
   "metadata": {},
   "outputs": [
    {
     "data": {
      "text/plain": [
       "EW_stdate\n",
       "2021-09-05      NaN\n",
       "2021-09-12     66.0\n",
       "2021-09-19    375.0\n",
       "2021-09-26    354.0\n",
       "2021-10-03    343.0\n",
       "              ...  \n",
       "2023-08-27    169.0\n",
       "2023-09-03    232.0\n",
       "2023-09-10    205.0\n",
       "2023-09-17    173.0\n",
       "2023-09-24    124.0\n",
       "Name: cases, Length: 108, dtype: float64"
      ]
     },
     "execution_count": 11,
     "metadata": {},
     "output_type": "execute_result"
    }
   ],
   "source": [
    "data['cases'].shift(1)"
   ]
  },
  {
   "cell_type": "code",
   "execution_count": null,
   "metadata": {},
   "outputs": [],
   "source": []
  }
 ],
 "metadata": {
  "kernelspec": {
   "display_name": "Python 3",
   "language": "python",
   "name": "python3"
  },
  "language_info": {
   "codemirror_mode": {
    "name": "ipython",
    "version": 3
   },
   "file_extension": ".py",
   "mimetype": "text/x-python",
   "name": "python",
   "nbconvert_exporter": "python",
   "pygments_lexer": "ipython3",
   "version": "3.8.8"
  }
 },
 "nbformat": 4,
 "nbformat_minor": 4
}
